{
 "cells": [
  {
   "cell_type": "code",
   "execution_count": 1,
   "metadata": {},
   "outputs": [],
   "source": [
    "from transformers import AutoTokenizer, MBartTokenizer, MBartModel, MBartForConditionalGeneration\n",
    "from datasets import load_dataset, load_from_disk\n",
    "import torch\n",
    "import data_prep\n"
   ]
  },
  {
   "cell_type": "code",
   "execution_count": 2,
   "metadata": {},
   "outputs": [
    {
     "name": "stdout",
     "output_type": "stream",
     "text": [
      "Preparing English to French\n",
      "Preparing English to Spanish\n",
      "Preparing English to Chinese\n",
      "Downloading and preparing dataset csv/default to /home/vg2565/.cache/huggingface/datasets/csv/default-05fc7f3b10286f96/0.0.0/6954658bab30a358235fa864b05cf819af0e179325c740e4bc853bcc7ec513e1...\n"
     ]
    },
    {
     "data": {
      "application/vnd.jupyter.widget-view+json": {
       "model_id": "99ca745c4c4b4fa29dee675ecdaa376b",
       "version_major": 2,
       "version_minor": 0
      },
      "text/plain": [
       "Downloading data files:   0%|          | 0/1 [00:00<?, ?it/s]"
      ]
     },
     "metadata": {},
     "output_type": "display_data"
    },
    {
     "data": {
      "application/vnd.jupyter.widget-view+json": {
       "model_id": "e6b161696dda4e439e7c8fd62716bded",
       "version_major": 2,
       "version_minor": 0
      },
      "text/plain": [
       "Extracting data files:   0%|          | 0/1 [00:00<?, ?it/s]"
      ]
     },
     "metadata": {},
     "output_type": "display_data"
    },
    {
     "data": {
      "application/vnd.jupyter.widget-view+json": {
       "model_id": "c7992f41734d4da2a6b07d58325b6457",
       "version_major": 2,
       "version_minor": 0
      },
      "text/plain": [
       "Generating train split: 0 examples [00:00, ? examples/s]"
      ]
     },
     "metadata": {},
     "output_type": "display_data"
    },
    {
     "name": "stdout",
     "output_type": "stream",
     "text": [
      "Dataset csv downloaded and prepared to /home/vg2565/.cache/huggingface/datasets/csv/default-05fc7f3b10286f96/0.0.0/6954658bab30a358235fa864b05cf819af0e179325c740e4bc853bcc7ec513e1. Subsequent calls will reuse this data.\n"
     ]
    },
    {
     "data": {
      "application/vnd.jupyter.widget-view+json": {
       "model_id": "ebc41830e1e8411aa102fd94d7367bde",
       "version_major": 2,
       "version_minor": 0
      },
      "text/plain": [
       "  0%|          | 0/1 [00:00<?, ?it/s]"
      ]
     },
     "metadata": {},
     "output_type": "display_data"
    },
    {
     "data": {
      "application/vnd.jupyter.widget-view+json": {
       "model_id": "3445163ac99949f6b72f140f340f318a",
       "version_major": 2,
       "version_minor": 0
      },
      "text/plain": [
       "Saving the dataset (0/1 shards):   0%|          | 0/98 [00:00<?, ? examples/s]"
      ]
     },
     "metadata": {},
     "output_type": "display_data"
    },
    {
     "data": {
      "application/vnd.jupyter.widget-view+json": {
       "model_id": "cc8871abb3864c0db7501e2766541da9",
       "version_major": 2,
       "version_minor": 0
      },
      "text/plain": [
       "Saving the dataset (0/1 shards):   0%|          | 0/60 [00:00<?, ? examples/s]"
      ]
     },
     "metadata": {},
     "output_type": "display_data"
    },
    {
     "data": {
      "application/vnd.jupyter.widget-view+json": {
       "model_id": "7f0c32c6c7bc4d4ead7713a73826c46c",
       "version_major": 2,
       "version_minor": 0
      },
      "text/plain": [
       "Saving the dataset (0/1 shards):   0%|          | 0/42 [00:00<?, ? examples/s]"
      ]
     },
     "metadata": {},
     "output_type": "display_data"
    },
    {
     "name": "stdout",
     "output_type": "stream",
     "text": [
      "Downloading and preparing dataset csv/default to /home/vg2565/.cache/huggingface/datasets/csv/default-dae19ca5587d224e/0.0.0/6954658bab30a358235fa864b05cf819af0e179325c740e4bc853bcc7ec513e1...\n"
     ]
    },
    {
     "data": {
      "application/vnd.jupyter.widget-view+json": {
       "model_id": "dc58223fc9e34b599421c853c56a9dd3",
       "version_major": 2,
       "version_minor": 0
      },
      "text/plain": [
       "Downloading data files:   0%|          | 0/1 [00:00<?, ?it/s]"
      ]
     },
     "metadata": {},
     "output_type": "display_data"
    },
    {
     "data": {
      "application/vnd.jupyter.widget-view+json": {
       "model_id": "745ccefecff44a679517ecedcda7b002",
       "version_major": 2,
       "version_minor": 0
      },
      "text/plain": [
       "Extracting data files:   0%|          | 0/1 [00:00<?, ?it/s]"
      ]
     },
     "metadata": {},
     "output_type": "display_data"
    },
    {
     "data": {
      "application/vnd.jupyter.widget-view+json": {
       "model_id": "14523bdd48f3479ab58c01b4e64226dd",
       "version_major": 2,
       "version_minor": 0
      },
      "text/plain": [
       "Generating train split: 0 examples [00:00, ? examples/s]"
      ]
     },
     "metadata": {},
     "output_type": "display_data"
    },
    {
     "name": "stdout",
     "output_type": "stream",
     "text": [
      "Dataset csv downloaded and prepared to /home/vg2565/.cache/huggingface/datasets/csv/default-dae19ca5587d224e/0.0.0/6954658bab30a358235fa864b05cf819af0e179325c740e4bc853bcc7ec513e1. Subsequent calls will reuse this data.\n"
     ]
    },
    {
     "data": {
      "application/vnd.jupyter.widget-view+json": {
       "model_id": "6028c54c6ef4410aadb196eedf4fe8e3",
       "version_major": 2,
       "version_minor": 0
      },
      "text/plain": [
       "  0%|          | 0/1 [00:00<?, ?it/s]"
      ]
     },
     "metadata": {},
     "output_type": "display_data"
    },
    {
     "data": {
      "application/vnd.jupyter.widget-view+json": {
       "model_id": "f2d48f0fc3c44041a0b869aa748f3bf2",
       "version_major": 2,
       "version_minor": 0
      },
      "text/plain": [
       "Saving the dataset (0/1 shards):   0%|          | 0/98 [00:00<?, ? examples/s]"
      ]
     },
     "metadata": {},
     "output_type": "display_data"
    },
    {
     "data": {
      "application/vnd.jupyter.widget-view+json": {
       "model_id": "99f24c6d80a44c548b92e94a8570d20d",
       "version_major": 2,
       "version_minor": 0
      },
      "text/plain": [
       "Saving the dataset (0/1 shards):   0%|          | 0/60 [00:00<?, ? examples/s]"
      ]
     },
     "metadata": {},
     "output_type": "display_data"
    },
    {
     "data": {
      "application/vnd.jupyter.widget-view+json": {
       "model_id": "afb6b52662784b829ffa3443374d3339",
       "version_major": 2,
       "version_minor": 0
      },
      "text/plain": [
       "Saving the dataset (0/1 shards):   0%|          | 0/42 [00:00<?, ? examples/s]"
      ]
     },
     "metadata": {},
     "output_type": "display_data"
    },
    {
     "name": "stdout",
     "output_type": "stream",
     "text": [
      "Downloading and preparing dataset csv/default to /home/vg2565/.cache/huggingface/datasets/csv/default-f03cdcc0d65998f2/0.0.0/6954658bab30a358235fa864b05cf819af0e179325c740e4bc853bcc7ec513e1...\n"
     ]
    },
    {
     "data": {
      "application/vnd.jupyter.widget-view+json": {
       "model_id": "d577d42a807b46918af743d476dc06c6",
       "version_major": 2,
       "version_minor": 0
      },
      "text/plain": [
       "Downloading data files:   0%|          | 0/1 [00:00<?, ?it/s]"
      ]
     },
     "metadata": {},
     "output_type": "display_data"
    },
    {
     "data": {
      "application/vnd.jupyter.widget-view+json": {
       "model_id": "c2eeb64b13ee497fb17e8fb808e6b8e9",
       "version_major": 2,
       "version_minor": 0
      },
      "text/plain": [
       "Extracting data files:   0%|          | 0/1 [00:00<?, ?it/s]"
      ]
     },
     "metadata": {},
     "output_type": "display_data"
    },
    {
     "data": {
      "application/vnd.jupyter.widget-view+json": {
       "model_id": "8401a6db709344ff88e529cc8dc2f1e6",
       "version_major": 2,
       "version_minor": 0
      },
      "text/plain": [
       "Generating train split: 0 examples [00:00, ? examples/s]"
      ]
     },
     "metadata": {},
     "output_type": "display_data"
    },
    {
     "name": "stdout",
     "output_type": "stream",
     "text": [
      "Dataset csv downloaded and prepared to /home/vg2565/.cache/huggingface/datasets/csv/default-f03cdcc0d65998f2/0.0.0/6954658bab30a358235fa864b05cf819af0e179325c740e4bc853bcc7ec513e1. Subsequent calls will reuse this data.\n"
     ]
    },
    {
     "data": {
      "application/vnd.jupyter.widget-view+json": {
       "model_id": "8fb9eba55da64c3ebd27c2fa28115c85",
       "version_major": 2,
       "version_minor": 0
      },
      "text/plain": [
       "  0%|          | 0/1 [00:00<?, ?it/s]"
      ]
     },
     "metadata": {},
     "output_type": "display_data"
    },
    {
     "data": {
      "application/vnd.jupyter.widget-view+json": {
       "model_id": "e43085bce3354a9fa9c8f5dfe8a30eca",
       "version_major": 2,
       "version_minor": 0
      },
      "text/plain": [
       "Saving the dataset (0/1 shards):   0%|          | 0/98 [00:00<?, ? examples/s]"
      ]
     },
     "metadata": {},
     "output_type": "display_data"
    },
    {
     "data": {
      "application/vnd.jupyter.widget-view+json": {
       "model_id": "313a155b84ae490d92aacf39406e74a0",
       "version_major": 2,
       "version_minor": 0
      },
      "text/plain": [
       "Saving the dataset (0/1 shards):   0%|          | 0/60 [00:00<?, ? examples/s]"
      ]
     },
     "metadata": {},
     "output_type": "display_data"
    },
    {
     "data": {
      "application/vnd.jupyter.widget-view+json": {
       "model_id": "5ecdfb8a1cbd470981edb07399f3e8bf",
       "version_major": 2,
       "version_minor": 0
      },
      "text/plain": [
       "Saving the dataset (0/1 shards):   0%|          | 0/42 [00:00<?, ? examples/s]"
      ]
     },
     "metadata": {},
     "output_type": "display_data"
    }
   ],
   "source": [
    "data_prep.create_datasets()"
   ]
  },
  {
   "cell_type": "code",
   "execution_count": 17,
   "metadata": {},
   "outputs": [
    {
     "name": "stdout",
     "output_type": "stream",
     "text": [
      "Collecting sentencepiece\n",
      "  Downloading sentencepiece-0.1.99-cp37-cp37m-manylinux_2_17_x86_64.manylinux2014_x86_64.whl (1.3 MB)\n",
      "\u001b[2K     \u001b[90m━━━━━━━━━━━━━━━━━━━━━━━━━━━━━━━━━━━━━━━━\u001b[0m \u001b[32m1.3/1.3 MB\u001b[0m \u001b[31m14.9 MB/s\u001b[0m eta \u001b[36m0:00:00\u001b[0ma \u001b[36m0:00:01\u001b[0m\n",
      "\u001b[?25hInstalling collected packages: sentencepiece\n",
      "Successfully installed sentencepiece-0.1.99\n"
     ]
    }
   ],
   "source": [
    "!pip install sentencepiece"
   ]
  },
  {
   "cell_type": "code",
   "execution_count": 3,
   "metadata": {},
   "outputs": [
    {
     "name": "stderr",
     "output_type": "stream",
     "text": [
      "Some weights of the model checkpoint at facebook/mbart-large-cc25 were not used when initializing MBartModel: ['final_logits_bias']\n",
      "- This IS expected if you are initializing MBartModel from the checkpoint of a model trained on another task or with another architecture (e.g. initializing a BertForSequenceClassification model from a BertForPreTraining model).\n",
      "- This IS NOT expected if you are initializing MBartModel from the checkpoint of a model that you expect to be exactly identical (initializing a BertForSequenceClassification model from a BertForSequenceClassification model).\n"
     ]
    }
   ],
   "source": [
    "model_mbart_cc25 = MBartModel.from_pretrained(\"facebook/mbart-large-cc25\")\n",
    "tokenizer_mbart_cc25_fr = MBartTokenizer.from_pretrained(\"facebook/mbart-large-cc25\", src_lang=\"en_XX\", tgt_lang=\"fr_XX\")"
   ]
  },
  {
   "cell_type": "code",
   "execution_count": null,
   "metadata": {},
   "outputs": [],
   "source": [
    "model_mbart_cc25"
   ]
  },
  {
   "cell_type": "code",
   "execution_count": 4,
   "metadata": {},
   "outputs": [
    {
     "name": "stderr",
     "output_type": "stream",
     "text": [
      "Found cached dataset glue (/home/vg2565/.cache/huggingface/datasets/glue/mrpc/1.0.0/dacbe3125aa31d7f70367a07a8a9e72a5a0bfeb5fc42e75c9db75b96da6053ad)\n"
     ]
    },
    {
     "data": {
      "application/vnd.jupyter.widget-view+json": {
       "model_id": "395d888f40af4cf597fdd249b48c58c6",
       "version_major": 2,
       "version_minor": 0
      },
      "text/plain": [
       "  0%|          | 0/3 [00:00<?, ?it/s]"
      ]
     },
     "metadata": {},
     "output_type": "display_data"
    },
    {
     "data": {
      "text/plain": [
       "{'sentence1': 'Amrozi accused his brother , whom he called \" the witness \" , of deliberately distorting his evidence .',\n",
       " 'sentence2': 'Referring to him as only \" the witness \" , Amrozi accused his brother of deliberately distorting his evidence .',\n",
       " 'label': 1,\n",
       " 'idx': 0}"
      ]
     },
     "execution_count": 4,
     "metadata": {},
     "output_type": "execute_result"
    }
   ],
   "source": [
    "raw_datasets = load_dataset(\"glue\", \"mrpc\")\n",
    "checkpoint = \"bert-base-uncased\"\n",
    "tokenizer = AutoTokenizer.from_pretrained(checkpoint)\n",
    "\n",
    "raw_datasets[\"train\"][0]\n",
    "\n",
    "# def tokenize_function(example):\n",
    "#     return tokenizer(example[\"sentence1\"], example[\"sentence2\"], truncation=True)\n",
    "\n",
    "\n",
    "# tokenized_datasets = raw_datasets.map(tokenize_function, batched=True)\n",
    "# tokenized_datasets"
   ]
  },
  {
   "cell_type": "code",
   "execution_count": 10,
   "metadata": {},
   "outputs": [
    {
     "data": {
      "text/plain": [
       "{'sentence1': 'Amrozi accused his brother , whom he called \" the witness \" , of deliberately distorting his evidence .',\n",
       " 'sentence2': 'Referring to him as only \" the witness \" , Amrozi accused his brother of deliberately distorting his evidence .',\n",
       " 'label': 1,\n",
       " 'idx': 0}"
      ]
     },
     "execution_count": 10,
     "metadata": {},
     "output_type": "execute_result"
    }
   ],
   "source": [
    "raw_datasets[\"train\"][0]"
   ]
  },
  {
   "cell_type": "code",
   "execution_count": 16,
   "metadata": {},
   "outputs": [],
   "source": [
    "def source_target_sentences(source_file_path, target_file_path):\n",
    "    source_sentences = []\n",
    "    target_sentences = []\n",
    "\n",
    "    with open(\"../WikiMatrix.en-fr.txt.en\", \"r\") as english_sentences:\n",
    "        for sentence in english_sentences.readlines():\n",
    "            source_sentences.append(sentence)\n",
    "            \n",
    "    with open(\"../WikiMatrix.en-fr.txt.fr\", \"r\") as french_sentences:\n",
    "        for sentence in french_sentences.readlines():\n",
    "            target_sentences.append(sentence)\n",
    "    return source_sentences, target_sentences"
   ]
  },
  {
   "cell_type": "code",
   "execution_count": 17,
   "metadata": {},
   "outputs": [],
   "source": [
    "english_french_en_file_path, english_french_fr_file_path = \"../WikiMatrix.en-fr.txt.en\", \"../WikiMatrix.en-fr.txt.fr\"\n",
    "english_french_en_sentences, english_french_fr_sentences = source_target_sentences(english_french_en_file_path, english_french_fr_file_path)"
   ]
  },
  {
   "cell_type": "code",
   "execution_count": 23,
   "metadata": {},
   "outputs": [],
   "source": [
    "from sklearn.model_selection import train_test_split\n",
    "\n",
    "english_french_en_sentences_train, english_french_en_sentences_val, english_french_fr_sentences_train, english_french_fr_sentences_val = train_test_split(english_french_en_sentences, english_french_fr_sentences, test_size=.2)\n",
    "\n",
    "#tokenizer_mbart_cc25(english_french_en_sentences, truncation=True)"
   ]
  },
  {
   "cell_type": "code",
   "execution_count": 24,
   "metadata": {},
   "outputs": [
    {
     "data": {
      "text/plain": [
       "['How is Shinjin to be Realized?\\n',\n",
       " 'The neural basis of always looking on the bright side.\\n',\n",
       " 'Awards 2010, but lost to Liquid Confidence by You Me At Six.\\n',\n",
       " 'The government of Niger has remained completely indifferent to our more than legitimate demands.\\n',\n",
       " 'David may well have been among them.\\n',\n",
       " 'En mort de qualité, je lui tins ce langage.\\n',\n",
       " 'Reistu þig við, sólin er komin á loft...\\n',\n",
       " 'Can coral reefs be saved?\\n',\n",
       " 'Jimmy Carter said it was the first time he had been denied permission to enter any country.\\n',\n",
       " 'Angela loves Christmas more than anything.\\n',\n",
       " 'It will be standard for so long as mankind is interested in mountaineering.\\n',\n",
       " '(Doctor iuris) or Dr. jur.\\n',\n",
       " 'The bear finds Charles and Bob again.\\n',\n",
       " 'But Bart is easy to do.\\n',\n",
       " 'Matt Stone and site creator Taison Tan decided to shut the site down in April 2001 when the official site South Park Studios launched.\\n',\n",
       " 'You Can Be an Oni, too!!\\n',\n",
       " 'Now God has decided to use other methods.\\n',\n",
       " \"Bee Train's first independent project was Noir.\\n\",\n",
       " 'Violent Riders (1975) and Detonation!\\n',\n",
       " 'Posting Of Banns Waived.\\n',\n",
       " '\"Someone in a Tree: My View of Johnny Carson\\'s Last Night.\"\\n',\n",
       " 'When Victory Is Not an Option: Islamist Movements in Arab Politics.\\n',\n",
       " 'The MNLA, at the beginning of the day of 17 November, had taken account of its losses.\\n',\n",
       " 'I love you, and you\\'re still a part of the Biden family.\"\\n',\n",
       " '1972. «\\xa0Notes pour une typologie des événements\\xa0» .\\n',\n",
       " 'The twenty-fourth canon confirms the preceding decrees.\\n',\n",
       " 'It also aims to experiment other reactors, catalysts ...\\n',\n",
       " 'You cowardly murdered my friend, assassin, assassin!\\n',\n",
       " 'Over 70 countries list at least some of their sovereign debt in Luxembourg.\\n',\n",
       " 'And He is The Almighty, The Compassionate.\"\\n',\n",
       " \"I've seen guys play 'Name' with regular tuning.\\n\",\n",
       " 'Is there anyone among the merchants who trade with Telmun who has treated me in this way?\\n',\n",
       " 'This is thy sheath.\\n',\n",
       " 'Their plea is that they do respect it, respect it so deeply that they seek to find its fulfillment for themselves.\\n',\n",
       " 'She said, I wanted a rich man, but I loved Jim Brown.\\n',\n",
       " 'Everything in This Country Must (Word Document), Guerrilla Film Fest.\\n',\n",
       " 'Crazy Talk, Stupid Talk: How We Defeat Ourselves By the Way We Talk and What to Do About It (1976).\\n',\n",
       " 'Have you any dirty washing, mother dear?\\n',\n",
       " 'These make up the greater part of the Sutra Pitaka.\"\\n',\n",
       " 'Another version in Polish is titled Jedenastoletnia zona.\\n',\n",
       " 'At that time the Garden View House was owned by a Mrs. Carpenter.\\n',\n",
       " 'A Question Book (1927) Do you Know Your History?\\n',\n",
       " 'The more rational thing would have been to send it to Taiwan or China.\"\\n',\n",
       " 'However, only BP exercised this option in December 2013.\\n',\n",
       " 'Glad I Saved Them, Were Last Words of Driver at Altoona.\\n',\n",
       " 'Sweden adopted these ideas a few years after Finland.\\n',\n",
       " 'One or two conversations with Reggie convinced me that I ought at least to see for myself.\\n',\n",
       " 'Scarr S. Understanding Development.\\n',\n",
       " \"Harry's father is also known to use the same Patronus.\\n\",\n",
       " '\"How does it feel to be like a rolling stone?\\n',\n",
       " '(The longest is the Druzhba pipeline from Russia to central Europe).\\n',\n",
       " 'So he might even be one of the two censors.\\n',\n",
       " 'Impossible to treat, she dies before arriving at Princeton-Plainsboro.\\n',\n",
       " \"Alman Büyükelçisi'nin Boğaziçi'ndeki Tarihi Yazlık Rezidansının Tarihçesi ve Gelişimi.\\n\",\n",
       " 'Henceforth France, and France alone, shall possess all that remains of Napoleon.\\n',\n",
       " 'Marziale would no doubt have been unwelcome after this, if he was in the city.\\n',\n",
       " 'I may be a mere scholar, but I have received orders from our Lord.\\n',\n",
       " 'Do not mourn for me; I shall have influenced history more than any other German.\"\\n',\n",
       " 'Hindi Lessons a Hit Abroad\".\\n',\n",
       " 'The Night of Power is better than a thousand months.\\n',\n",
       " 'His throne embraces the heavens and the earth, and He is not burdened by guarding them.\\n',\n",
       " 'The Birds of Paradise: Paradisaeidae.\\n',\n",
       " 'In what distant deeps or skies, Burnt the fire of thine eyes?\\n',\n",
       " 'The Small Heath Club and its members.\\n',\n",
       " 'A shooting school, using French rifles.\\n',\n",
       " '\"53 on Missing Craft Are Reported Saved\".\\n',\n",
       " '970 people work at Harman.\\n',\n",
       " 'A guide to lasers in the OR.\\n',\n",
       " 'Viewers could have thought he was from Northampton or New York or anywhere\".\\n',\n",
       " 'Its force or power is entire if it be converted into earth.\\n',\n",
       " 'Everything is surrounded by the whole idea of something military.\\n',\n",
       " 'We dance, annexed by power.\\n',\n",
       " 'In this regard, the series of Robert Macaire is highly significant.\\n',\n",
       " 'They played with Demented Are Go and Torment.\\n',\n",
       " 'MyGaze Eye Controller is a real next gen.\\n',\n",
       " '1982: Lezou Marie ou les écueils de la vie.\\n',\n",
       " 'Over 800 volumes arrived in Boston and were sent to the college.\\n',\n",
       " 'He claims that Mulder is under surveillance, which later proves to be true.\\n',\n",
       " '\"Now we need real independence, not a declaration.\\n',\n",
       " 'He also wrote two other well-known books that are classics: The Resurrection of our Lord and The Ascension of our Lord.\\n',\n",
       " 'Indeed, discipline entered my life.\\n',\n",
       " 'But my first mistress and most true love, the little Civil and Military Gazette, weathered the storm.\"\\n',\n",
       " '\"U2 shows its star power\".\\n',\n",
       " '\"New Pavement System...\\n',\n",
       " 'She really knows how to work with a camera and move.\\n',\n",
       " 'All the earth resounds with his mighty name\".\\n',\n",
       " 'Angel Rabbie (Fia Note) True Love Story Summer Days, and yet...\\n',\n",
       " 'I am exhausted—betwixt life and death—and heaven and hell.\"\\n',\n",
       " 'But in Hollywood his dreams ended.\\n',\n",
       " 'In Cambodia, in partnership with association 1001 Fontaines.\\n',\n",
       " '\"Gottes Lob soll heut erschallen,\" No. 2.\\n',\n",
       " 'Do you want to be good enough to give them four tickets for tonight on Tuesday.\\n',\n",
       " 'The African assets were mostly sold for the same reason.\\n',\n",
       " 'The coordinator of an ichiza, he or she is responsible for the completion of a renga.\\n',\n",
       " 'In January 1538, the letter \"C\" was attributed to him.\\n',\n",
       " 'Domine, ad adiuvandum me festina.\\n',\n",
       " 'He answers, seven; but the commissary had said four.\\n',\n",
       " 'If Russia has an army of 15,000 men at Corfu, do you think that it is directed against me?\\n',\n",
       " 'I have never understood why Western educationists are so much against corporal punishment.\\n',\n",
       " 'Once Upon A Soul: Stories of striving and yearning.\\n',\n",
       " 'Solomon is the author of the book Why?\\n',\n",
       " 'He also defeated Nate Mattson at Not Enough Time on May 15, 2004.\\n',\n",
       " \"'I was lucky,' the 91-year-old Eugene musician says.\\n\",\n",
       " 'It is man who is fragile, and above all his liberty.\\n',\n",
       " 'Meanwhile, King Salman appointed 26 new judges.\\n',\n",
       " '20th century go to sleep.\\n',\n",
       " 'Those unto whom We gave the Scripture know that it is revealed from your Lord in truth.\\n',\n",
       " '1–0 was enough, as long as we could humiliate them.\\n',\n",
       " 'There are Strings (1995) 68 Million Shades...\\n',\n",
       " 'The author explains why according to him the first four solutions are less preferable than the fifth.\\n',\n",
       " 'The fifth book returns to the subject of faith.\\n',\n",
       " 'Netanyahu described the agreement as a historic moment for the two countries.\\n',\n",
       " '\"Persistently & Consistently Avoiding God in Cameroon (2)\".\\n',\n",
       " 'In short, a troll, what!\\n',\n",
       " '\"Which Countries have State Religions?\"\\n',\n",
       " 'A Winter Atlas and a Historical Atlas have also been published.\\n',\n",
       " 'As if there even were a Tunisian personality!\\n',\n",
       " '\"Red Bells\" and 2.\\n',\n",
       " '1998 - Boleiros - Era uma Vez o Futebol ....\\n',\n",
       " \"I always thought of it as a magical place\\xa0– even if you're not taking ecstasy.\\n\",\n",
       " '71 Marche héroïque op.\\n',\n",
       " 'Foa, E. After Big Game in Central Africa.\\n',\n",
       " 'Cultural radicalism is also used outside of Denmark.\\n',\n",
       " '“Because the Dawn\\xa0: The Makings of a Camp Classic.\\n',\n",
       " 'Special issue remembering Dr. Norris.\\n',\n",
       " \"That was Jerry's idea to do that ...\\n\",\n",
       " 'Sevela, Marie, \"Nihon wa Soren ni natta toki.\\n',\n",
       " 'Let us remain Estonians, but let us become Europeans too.\\n',\n",
       " 'However, Tolai is actually the name of the cultural group.\\n',\n",
       " 'I love you, Hoffmann!\\n',\n",
       " 'How many jurors know that?\\n',\n",
       " '\"Elegy XIX: To His Mistress Going to Bed\".\\n',\n",
       " 'But, Bisi, you have helped us to achieve change.\\n',\n",
       " 'Every Tour de France only has one winner.\\n',\n",
       " 'One of the best in a year of many gems.\\n',\n",
       " 'Thou art verily the Bestower, the Merciful, the Compassionate.\"\\n',\n",
       " \"What the bloody hell is goin' on?\\n\",\n",
       " '\"Word Hy-phen-a-tion by Com-pu-ter\".\\n',\n",
       " \"Stefano O. Condorelli, '«\\xa0To tell you the truth, I wish I were fairly back at Naples\\xa0».\\n\",\n",
       " 'There are already too many ruins in Ireland.\"\\n',\n",
       " 'Since the war, my mother and I have more than supported him.\\n',\n",
       " 'I have learned that life on Earth can be an adventure too.\\n',\n",
       " 'The Chicago report precedes the full purchasing agents report.\\n',\n",
       " 'You strike me to the heart every time you speak.\"\\n',\n",
       " 'Cornilliat, \"\\'Mais que dirai-je à César?\\'\\n',\n",
       " 'They saw Europe and its industrial cities negatively.\\n',\n",
       " 'This idea is supported by Albert L. Weeks.\\n',\n",
       " 'Chauffeur ins Metropol!\\n',\n",
       " 'A young Englishman arrived with a guide.\\n',\n",
       " 'Por un Amor en las Almas, Por una losa en los cuerpos.\\n',\n",
       " 'There is No God but ALLAH.\\n',\n",
       " '\"Koch Keeps Leadership of \\'Village\\' by 164 Votes.\"\\n',\n",
       " 'In any case, his last marriage was monogamous.\"\\n',\n",
       " 'The original Korean-language article is at Naver.\\n',\n",
       " 'He painted a few small portraits, and died in France\".\\n',\n",
       " 'Le Pont des singes (De la diversité à venir).\\n',\n",
       " '\"Memri.org – A Tool of Enlightenment or Incitement?\".\\n',\n",
       " 'Thirteen years later, Secret Moments was completed after all.\\n',\n",
       " 'For the second time, Congress refused to adopt it nationwide.\\n',\n",
       " 'It was Lon Nol who obliged me to choose between them.\"\\n',\n",
       " '\"Головной офис Казахстан, г.\\n',\n",
       " '\"U.S. Navy Boosting LCS Core Crew Up to 50%\".\\n',\n",
       " 'It is therefore not surprising to find the same families in the three villages.\\n',\n",
       " \"'Cause the washing day is here.\\n\",\n",
       " 'For The First Time In 77 Years, Contestants In Miss America Pageant Can Choose Their Swimwear.\\n',\n",
       " 'Tuesday came, he not sick.\\n',\n",
       " 'Eat, Drink, Think in Spanish.\\n',\n",
       " 'James Hall Centennial Volume.\\n',\n",
       " 'In the reply of the refusal, Ali delivered Sermon 63.\\n',\n",
       " 'He enters room 6255 and finds himself in a home that he finds familiar.\\n',\n",
       " '1986 – La Vie Sans Toi, Mais Ne Reviens Jamais, Où Étais Tu\\xa0?\\n',\n",
       " 'Fortunately for myself and my colleagues we were not.\\n',\n",
       " \"When I say my life began with Ronnie, well, it's true.\\n\",\n",
       " 'Chapter II: The Unloved, Unwanted Garrison.\\n',\n",
       " '1879 - Études administratives\\xa0: le dépôt légal.\\n',\n",
       " 'The majority of them, some 70 in 2002, belong to the Amana movement.\\n',\n",
       " '1 The Eternal Present (1993) Solar Dream Vol.\\n',\n",
       " 'The M3 was the solution.\\n',\n",
       " 'From His Smokie And Solo Years 2009: The Hits!\\n',\n",
       " 'Le radical est Lau- / Leu-.\\n',\n",
       " 'Le Matin on D17.\\n',\n",
       " 'A 2006 non-representative study looked at homosexual men in India.\\n',\n",
       " 'He\\'s a force of nature, like Patrick.\"\\n',\n",
       " 'Versuch einer freundlichen Annäherung an die Schweizerische Eidgenossenschaft.\\n',\n",
       " 'Part 1 covers ServerSent Events.\\n',\n",
       " 'My heart broke for her, she looked so sad at the end of that moment.\"\\n',\n",
       " 'Royal Trux was his \"thing.\"\\n',\n",
       " '(2005) «\\xa0600 Million Years of African Geology\\xa0».\\n',\n",
       " 'Finally, other sources were linked to Kakasbos.\\n',\n",
       " '1: Too Cool to Live, Too Smart to Die.\\n',\n",
       " 'By Allah, we shall cut it off!\\n',\n",
       " 'I got my grub-stake in Juneau that winter, and in the spring I went over the Pass once more.\\n',\n",
       " 'Members that represented Territories on 31 December 2005 shall continue to be Members.\\n',\n",
       " \"Sam then goes to Hope's room one last time.\\n\",\n",
       " \"Eight more days 'til Halloween, Silver Shamrock.\\n\",\n",
       " 'To some degree David Lynch gave them that.\\n',\n",
       " \"He doesn't like Teela (since she took his position as top pilot).\\n\",\n",
       " 'As part of this effort, Israel will also upgrade its Pumas.\\n',\n",
       " '\"Soldier Like Me (Return of the Soulja)\" 02.\\n',\n",
       " 'And where are the DB-3Bs?\\n',\n",
       " 'In 1937, Ireland Today published her short story Flight.\\n',\n",
       " \"Photo Cabaret and 80's Family continued in this direction.\\n\",\n",
       " 'He leaves the government in the hands of a strict judge, Angelo.\\n',\n",
       " 'Neither Alvise nor any of his party left the ship.\\n',\n",
       " '\"Stefani has it all, baby\".\\n',\n",
       " 'All other islands offer less than 50 hotels.\\n',\n",
       " 'They also always preferred Christians in government administration.\\n',\n",
       " 'A Wing in the Door: Life With A Red-tailed Hawk.\\n',\n",
       " 'Nederland vs ...\\n',\n",
       " 'Roosevelt approved it in ten minutes.\\n',\n",
       " 'However, Lacy suggests that there are fifty forts remaining in Ireland.\\n',\n",
       " 'Bush Administration to date, the titles of only about half have been publicly identified.\\n',\n",
       " 'Bravo, Matt and Trey.\"\\n',\n",
       " 'However, they seem closer to Anthony.\\n',\n",
       " 'Someone once described us as a three-headed god.\\n',\n",
       " 'I fully support the United States Constitution, and I would not welcome (in any form) a diminishment of its provisions.\\n',\n",
       " 'Part II, the functional or unloaded leg-length asymmetry\".\\n',\n",
       " '\"There Is No-one What Will Take Care of You – The Palace Brothers\".\\n',\n",
       " 'But it was some of the earliest songs we wrote as Royal Trux.\\n',\n",
       " 'What Oliver did was much greater.\\n',\n",
       " 'Further, Allah said in another Ayah: The seven heavens and the earth and all that is therein, glorify Him and there is not a thing but glorifies His praise.\\n',\n",
       " 'They are moving between Amsterdam and Barcelona, and the blame pursues them.\\n',\n",
       " 'In the present day, the Heavens are in disarray due to the lack of Akuto flowing into the Heavens.\\n',\n",
       " 'The New American Commentary; v. 34.\\n',\n",
       " 'Parabrahm is not a God, but absolute immutable law...\\n',\n",
       " '\"Yeah, no school like the old school.\"\\n',\n",
       " 'Some journalists also may be involved.\"\\n',\n",
       " 'Welcome to the Wrecking Ball!\\n',\n",
       " 'The Australian Government authorised these operations for primarily political reasons.\\n',\n",
       " 'Then we did not want you to go to the Senate but the people would send you.\"\\n',\n",
       " 'Finding New Paths to Workplace Democracy.\\n',\n",
       " 'To which there is only one answer: I am for physics\".\\n',\n",
       " \"Draw poker, you bet only twice; hold 'em, you bet four times.\\n\",\n",
       " 'Daddy Screw 2004 Cold as Hell feat.\\n',\n",
       " 'The duty of the Scout (the Guide) begins at home.\\n',\n",
       " 'Awards; one of them being the Kerrang!\\n',\n",
       " 'The finalists performed on each apparatus again.\\n',\n",
       " \"Let me make it clear that I'm not saying seasons 3 through 9 were bad.\\n\",\n",
       " 'The world will never again see five million people crying together.\"\\n',\n",
       " 'The CNCD-11.11.11 was founded on a fundamental value of cooperation in development: solidarity.\\n',\n",
       " 'Sermo: A Community-Based, Knowledge Ecosystem.\\n',\n",
       " 'II in April 2010, via The End Records.\\n',\n",
       " 'In Memory Yet Green.\\n',\n",
       " '(Contemporary, 1957 ) The Poll Winners Ride Again!\\n',\n",
       " 'Edward Dent considered the work as unfinished.\\n',\n",
       " 'BSES Sugarcane for the Future.\\n',\n",
       " 'Do you think the night can furnish no pleasure?\"\\n',\n",
       " 'La Goldberg as a primadonna is my first disaster without knowing it.\\n',\n",
       " 'More skilled immigrants should come to Denmark.\\n',\n",
       " '\"Perryville at one time Regular Military Post.\"\\n',\n",
       " '“Cómo se llegó al modus vivendi de 1929” en Temas históricos diversos.\\n',\n",
       " \"Côte-d'Ivoire: quelle issue pour la transition?.\\n\",\n",
       " 'Should Every Child that is Born be Raised?\\n',\n",
       " 'Civilization Is at Bottom an Economic Fact.\\n',\n",
       " 'De la Ruche à Java… et retour.\\n',\n",
       " 'The body of God\\xa0: Cosmos - Avatara - Image.\\n',\n",
       " 'Why not just take Jamaal Wilkes and let it go at that.\"\\n',\n",
       " 'By 16:20, the southern position at Tel Faher had been taken.\\n',\n",
       " 'God places man in a garden because this is his natural place, the place to which he is best adapted.\\n',\n",
       " 'If all Indian politicians are like Mrs. Naidu, then the country is fortunate indeed.\"\\n',\n",
       " 'It is said after this he split to a thousand pieces, and became the stars.\\n',\n",
       " 'FM802 will begin broadcasting again.\"\\n',\n",
       " '(An old teacher said this.)\\n',\n",
       " 'This fact may explain why it was not common in Europe.\\n',\n",
       " 'A comment on the longest Etruscan text (2007) Myths and more.\\n',\n",
       " 'It took four or five hours to reach Tunis\".\\n',\n",
       " 'What has he not done for us, especially in these latter times?\\n',\n",
       " '\"You can be an intellectual yet still be an idiot.\\n',\n",
       " 'Between 10% and 15% came from Sicily and Naples.\\n',\n",
       " \"Mr Morris's decision (to enter this sector) is no surprise to me ...\\n\",\n",
       " 'Pay attention to your food hygiene.\\n',\n",
       " 'Love Berrish!\\n',\n",
       " 'Strike the harp and join the chorus.\\n',\n",
       " 'Property and Contract in their Relation to the Distribution of Wealth.\\n',\n",
       " 'Only the fourteenth priest and his successors are Japanese.\\n',\n",
       " 'I have laughed when they look so clever and talk about being on the right track.\\n',\n",
       " \"At this point, Colonel Miller's nerve seems to have gone.\\n\",\n",
       " 'Mankind, awake!\\n',\n",
       " 'Beans 2006 Mic Diplomat feat.\\n',\n",
       " 'We can send you thousands of them.\"\\n',\n",
       " 'A model 52 Zero, captured during the liberation of Guam, was later used as well.\\n',\n",
       " 'Hip-Hop Alive and Well on the Web.\\n',\n",
       " 'Les vésicants sont-ils bons pour les douleurs arthritiques?\\n',\n",
       " 'He also claimed the remains returned in 2004 are genuine.\\n',\n",
       " '\"Change\" (2007) directed by Roman White.\\n',\n",
       " 'Hits U Missed Vol.\\n',\n",
       " 'Vampire Rain: Altered Species was also poorly received.\\n',\n",
       " 'Future generations will damn you in your grave for what you have done.\\n',\n",
       " 'He publishes the blog: les Pieds dans le Plat.\\n',\n",
       " '(1978) A Dialogue on Personal Identity and Immortality.\\n',\n",
       " 'Yo tengo un tío en América (1995).\\n',\n",
       " 'Now you know you look 2 damn good 2 be crying...\\n',\n",
       " 'Senden İbaret (2000) Sen Yoluna...\\n',\n",
       " 'Perhaps that’s why I discovered my father’s work so late.\\n',\n",
       " '\"Storing a Collection of Polygons Using Quadtrees\".\\n',\n",
       " 'I Mother Earth: I Mother Earth stay grounded.\\n',\n",
       " 'There are two flags used by the Young Pioneers of China.\\n',\n",
       " 'Ne bev ne mev niso rekli.\\n',\n",
       " 'As a result of the treaty, France was able to maintain only a few ports.\\n',\n",
       " 'Martin claimed that they all moved abroad.\\n',\n",
       " 'Ash, the alpha wolf, arrives later.\\n',\n",
       " 'It was a relationship that would last, in some form or other, for the rest of Roza’s life.\\n',\n",
       " 'Some countries or states have already implemented some of these ideas through Vision Zero networks.\\n',\n",
       " \"More; Chris Crocker can't make pizza.\\n\",\n",
       " 'The altar is considered unique for Sudan and Egypt in that time period.\\n',\n",
       " \"Guerres d'Aujourd'hui\\xa0: Pourquoi ces conflits\\xa0?\\n\",\n",
       " 'The Mighty Wurlitzer: How the CIA Played America.\\n',\n",
       " \"Sometimes it's a riff; sometimes it's a little segment of music\\xa0...\\n\",\n",
       " 'Scheme for Devanagari and tables for all the languages covered.\\n',\n",
       " 'Thus, he did not believe that Isaac would be sacrificed in the end.\\n',\n",
       " 'Finally, in \"Tonight We Fly\", they transcend everyone through their ecstasy.\\n',\n",
       " 'The colors then appeared as if by magic.\\n',\n",
       " 'Afternoon (good!\\n',\n",
       " 'Before that he was an elephant trainer for the Al.\\n',\n",
       " 'What Makes Music European - Looking Beyond Sound.\\n',\n",
       " 'The man gives the boy two coins as a consolation.\\n',\n",
       " 'Rio recognizes Teela as the leader.\\n',\n",
       " 'If Elvis can do it, I can do it.\\n',\n",
       " 'And keep your duty to Allah.\\n',\n",
       " 'Time Was Gigantic ...\\n',\n",
       " 'She later uses a jeep.\\n',\n",
       " 'We are sick and appalled, as is the rest of the nation, by what took place in Colorado yesterday.\\n',\n",
       " '\"Whither Kentucky Civil War and Reconstruction Scholarship?.\"\\n',\n",
       " 'Universal Edition UE 15043; Interdisc ID 104.\\n',\n",
       " 'Sermon 103, is a sermon about himself and the leaders after his death.\\n',\n",
       " '\"Night Rather Than Day\" (낮보다는 밤)\" 03.\\n',\n",
       " 'Ephémérides\\xa0: for 9 instruments, 1995.\\n',\n",
       " 'Thirty years later, he would have been called a playboy.\"\\n',\n",
       " 'Although the banking system has been reformed several times since 1991, it does not play a significant role in investment.\\n',\n",
       " 'Conway can usually give the correct answer in under two seconds.\\n',\n",
       " '(2006) The Africanity of Spain Identity and Problematization.\\n',\n",
       " 'I never went along with that baloney.\\n',\n",
       " 'The sheep were eventually given to Eritrea.\\n',\n",
       " 'The work was first exhibited in Too Jewish?\\n',\n",
       " '\"The day I downloaded myself\".\\n',\n",
       " 'The Discovery of a Most Exquisite Jewel.\\n',\n",
       " '1/1930; last amended in BGBl.\\n',\n",
       " 'This is not the first time girls have been burned alive in the city.\\n',\n",
       " 'Furthermore, since 1982, baby boys are adopted out rather than remain in the community.\\n',\n",
       " 'This year, there are four lists advocating universal suffrage and political reforms.\\n',\n",
       " '\"A Specter Is Haunting Globalization.\"\\n',\n",
       " 'Technically, the new Twin City Liner is satisfactory.\\n',\n",
       " 'Commission from \"Ars organorum\" I. Dis-moi ton nom… II.\\n',\n",
       " \"I've been super busy the last few weeks doing something new for #AgentsofSHIELD.\\n\",\n",
       " 'I am, I remain and I will remain the legitimate burgomaster of Brussels.\"\\n',\n",
       " 'You were a good friend to Sonny and me.\\n',\n",
       " 'They Appeared, the Insect Mecha!!\\n',\n",
       " 'They were allowed to keep their other disputed possessions.\\n',\n",
       " 'They even carried paternalism far enough to select a husband for me.\\n',\n",
       " 'Trans Media Action is now known as All About Trans.\\n',\n",
       " '100 Masterpieces with and through Media.\\n',\n",
       " 'Later, however, men and women might even bathe together.\\n',\n",
       " 'From Camp 3 they could also see a body in the distance.\\n',\n",
       " '\"They know each other because Millicent grew up in front of that boy.\\n',\n",
       " \"(Despite McGuire's efforts, Jackson later died of pneumonia.)\\n\",\n",
       " 'FO 141/786/5 The Turkish Problem: things seen and a few deductions.\\n',\n",
       " \"This was not unusual; nearly 60 percent of the Army's regular officers did not serve overseas.\\n\",\n",
       " '1993 - Witness to a World at War.\\n',\n",
       " 'Why do they always send the poor?\"\\n',\n",
       " 'The IX-16 classification is also uncertain.\\n',\n",
       " 'We did achieve our design goals....\\n',\n",
       " 'What is the true identity of Java Moss and other aquarium mosses sold in Singapore shops?\\n',\n",
       " '\"The United States and the Geneva Protocol of 1924: \\'A New Holy Alliance\\'?\\n',\n",
       " 'However, there were still several small fights in Georgia after his departure.\\n',\n",
       " 'Above them are three angels, one carrying a palm.\\n',\n",
       " 'A free energy principle for the brain.\\n',\n",
       " 'Inside You Only Live Twice: An Original Documentary (Television).\\n',\n",
       " 'The Knife Again--Probable Murder of a Boy by a Boy.\\n',\n",
       " 'He claimed that the heart was connected to the entire body through 13 main channels.\\n',\n",
       " 'New Album No Cities to Love! 2015 Tour!\\n',\n",
       " '1905: Der Schnurrbart.\\n',\n",
       " \"Shilts' only monument is his work.\\n\",\n",
       " 'Do not let the media, schools, institutions, influence you.\\n',\n",
       " 'And now at last, Comes Traveller and his master.\\n',\n",
       " 'Although built only in 2003, is considerably young compared to other local schools.\\n',\n",
       " 'He has been under notice for seditious behaviour since 1914, and has been several times ...\"\\n',\n",
       " 'Defence News, 5 Feb 09.\\n',\n",
       " '3 Error of a degree and more sometimes, in the vse of the crosse staffe ...\\n',\n",
       " 'Video games, the media and Obama’s budget kill people. ...\\n',\n",
       " 'Indeed, Allah is but one God.\\n',\n",
       " '19:35- It is not Allah’s Glory that He should take (to Himself anyone as) a son.\\n',\n",
       " 'But if the only thing it does is double the colors....\"\\n',\n",
       " 'Many new policy initiatives were advanced by Chávez after 2004.\\n',\n",
       " 'She and Laura Balbo also received representation from the Comitato against this.\\n',\n",
       " 'She has sworn to serve the Arima family to show her gratitude.\\n',\n",
       " 'Warm regards from my entire family and our Bernhard.\\n',\n",
       " 'Furthermore, as regards to the matter in question, I will measure the time until your kind response to this request.\\n',\n",
       " 'I saw them shoot an M79 into a group of people who were still alive.\\n',\n",
       " 'Those who are not predestinated to life shall necessarily be damned for their sins.\\n',\n",
       " \"I don't even know how I lived without you for nearly 18 years.\\n\",\n",
       " 'Neither by the blood of the innocent, nor by the blood of the guilty.\\n',\n",
       " 'In his public services he pronounced the name of Jesus as seldom as possible.\\n',\n",
       " 'Other purposes may include prayers for rain.\\n',\n",
       " '7; and the Midrash Ḳohelet was probably divided according to these sections.\\n',\n",
       " 'Surf and turf, then, can only be used ironically in light of what we now consider sophisticated food.\"\\n',\n",
       " 'Nous consacrons tout à Marie, thème varié – 5.\\n',\n",
       " '\"Which Compound Requires More Attorneys: MTBE or Benzene?\".\\n',\n",
       " \"You're in the jungle baby!\\n\",\n",
       " 'But you are mine, even if the city of Urkesh is not.\"\\n',\n",
       " 'They lied to the police and the media for months.\"\\n',\n",
       " 'Now, when I see a sportsman, I see the man.\\n',\n",
       " 'Johnson had three goals in Reconstruction.\\n',\n",
       " '\"This is my toll bridge.\\n',\n",
       " 'The words Herr, deine Augen are repeated three times.\\n',\n",
       " '1996 ¿Que pasa en la calle?; for 4 trumpets.\\n',\n",
       " 'I will cheerfully and willingly obey all lawful orders.\\n',\n",
       " 'Do you know the storm that is rising against all good people?\\n',\n",
       " \"And she said: 'Are you exploiting my sister's death by living in her house?'\\n\",\n",
       " 'Does every creature feel content with what God meant for him?\\n',\n",
       " 'Ex Post Facto Vol.\\n',\n",
       " 'Lots of singers are frightened about not getting invited back to an opera house if they speak out.\\n',\n",
       " 'This work is of much higher quality than the signed works of del Monte.\\n',\n",
       " '1987: Cette fois, Jeanne...\\n',\n",
       " 'The number of ayat in surat al-Fatiha.\\n',\n",
       " 'Sometimes the Persians intrude into the dwellings of the Jews and take possession of whatever please them.\\n',\n",
       " \"Miss Hyde's father died two weeks ago, and I am very sorry.\\n\",\n",
       " 'Rather we say that they are thinkers (mufakkireen), just as they call them.\\n',\n",
       " 'In: Die Wahrheit ist nackt am schönsten.\\n',\n",
       " 'If dogs and pigs do not do it, why must human beings?\\n',\n",
       " 'It may be that we shall lose Palestine.\\n',\n",
       " \"(Bonchō) In this neighborhood They don't even recognize money— How inconvenient!\\n\",\n",
       " '\"Remarkable Parents Who Raised Remarkable Family.\"\\n',\n",
       " 'However 400 boys were trained to be part of Operation Werwolf.\\n',\n",
       " 'For the second time in the Seven Days, however, Jackson was late.\\n',\n",
       " 'Eventually he loses this ability and starts wearing a black ring again.\\n',\n",
       " '\"Ex-aide to senator files ethics complaint\".\\n',\n",
       " '1995 Laps; for ensemble.\\n',\n",
       " 'I deny that the English have hitherto had a drama at all.\\n',\n",
       " 'God would begin restoring the earth.\\n',\n",
       " \"If you're bored, change my oil.\\n\",\n",
       " 'As you lie on your own death-bed you will be as mystified about UFOs as you are today.\\n',\n",
       " 'La Double Insomnie & Lili au Lit.\\n',\n",
       " 'Sections 7-13 discuss further related issues.\\n',\n",
       " 'Les Pieds nickelés se débrouillent Toujours de nouveaux exploits Ollé\\xa0!\\n',\n",
       " '1946: Sur mon cheval.\\n',\n",
       " 'They attracted 54 \"participating artists\" (students) in what is now recognized as the first Marlboro summer festival.\\n',\n",
       " 'But her shrill, hectoring tone does her no favours.\"\\n',\n",
       " 'He was only a teenager when he created it.\\n',\n",
       " 'Vaid hopes that the future of LGBT communities will accomplish two things.\\n',\n",
       " 'Her film Macht die Pille frei?\\n',\n",
       " 'This is a project we quietly shot last week in which I act with dialogue.\\n',\n",
       " 'Declining resources also end a provincial mining boom.\\n',\n",
       " 'All fundamental and governance conventions of ILO have been ratified by Azerbaijan.\\n',\n",
       " 'L’étrange destinée d’un homme trois fois français.\\n',\n",
       " 'Je sais quand Dieu vient se promener dans mon jardin.\\n',\n",
       " 'Aux gens de loi tu couperas les ongles radicalement.\\n',\n",
       " 'It turns out that this escort is his own former regiment.\\n',\n",
       " 'The prohibition of slavery in the territories is the cardinal principle of this organization. ...\\n',\n",
       " 'The French army, however, demanded an official comparative test with the other systems.\\n',\n",
       " 'Reflect that some day you will suddenly have to leave everything in this world–so make the acquaintanceship of God now.\\n',\n",
       " 'Batman and Robin welcomes new readers!\"\\n',\n",
       " 'His name was Culin, and he had an idea.\\n',\n",
       " 'I beg however to differ from Ruskin in my estimate of them.\\n',\n",
       " '\"A walk down Rideau Street, and through history.\"\\n',\n",
       " '\"Why Do We Need ‘Hypersonic’ Strike Weapons, Exactly?\".\\n',\n",
       " '\"Turning Digital into Dollars.\"\\n',\n",
       " 'Night is about life and the various ways of interpreting existence.\\n',\n",
       " 'They are equally, if not more so, celebrated for their powerful self-portraits.\\n',\n",
       " 'Each of forthcoming 4 weeks is devoted to one of the four elements and called accordingly in Azerbaijan.\\n',\n",
       " 'An even more ambitious reconstruction was carried out in Paris.\\n',\n",
       " 'I felt like I was looking at someone from Gan Eden.\\n',\n",
       " 'What a ridiculous phrase in the face of the great reality of death.\\n',\n",
       " 'International Marketing: The Importance of Image in Japan.\\n',\n",
       " '\"If you only knew how much I miss Baku and my daughter.\\n',\n",
       " 'I expect all top grandmasters, including Peter Leko, to protest against this special privilege.\"\".\\n',\n",
       " 'The project created or improved eight other channels.\\n',\n",
       " '\"Why I\\'m working with Tim Rice for the first time in 34 years: Andrew Lloyd Webber strikes again\".\\n',\n",
       " 'The world, the so-called world, knows everything about Slobodan Milošević.\\n',\n",
       " 'So fear not mankind, but fear Me.\\n',\n",
       " 'The whole Tibetan nation is guarding it.\\n',\n",
       " 'They would do it on any mayor, anyone.\\n',\n",
       " 'Roger Sessions: How a \"Difficult\" Composer Got That Way.\\n',\n",
       " 'Walker Uses Apparatus.\\n',\n",
       " 'I will probably think three times before I use this colonel again.\\n',\n",
       " 'When the Type 93 became obsolete a radical new method was tried.\\n',\n",
       " 'After all of these years – you should give me a more loving answer than that.\\n',\n",
       " 'An American commander losing men like that would hardly have lasted more than a few weeks.\"\\n',\n",
       " 'Joe Carnahan, thank God, is directing again.\\n',\n",
       " 'ICO, on the other hand, is responsible for supervising the implementation of the Ahtisaari Plan.\\n',\n",
       " 'Brian had already begun writing Phorum 2.0.\\n',\n",
       " 'A few said that they knew Mol.\\n',\n",
       " 'Honoré (lyrics by Jean Manse) Quel Plaisir\\xa0!\\n',\n",
       " 'No one knew of the great man he was, except those nearest to him.\\n',\n",
       " '(ギョ！人形の襲撃！, Gyo!\\n',\n",
       " 'God\\'ll put gas in the car tomorrow.\\'\"\\n',\n",
       " 'Tariq arrived first, according to some accounts.\\n',\n",
       " '팬클럽명 大공개!\\n',\n",
       " '\"Charting a Path through the \\'Desert of Nothing.\\'\"\\n',\n",
       " \"There's no more Michael Jackson but I think she's a beast to begin with.\\n\",\n",
       " '4大スーパースター特集 (Four Superstars Special).\\n',\n",
       " 'At all events it renders writing unpleasant.\\n',\n",
       " 'To South Dakota we welcome you.\\n',\n",
       " \"But I didn't try and sandbag it.\\n\",\n",
       " 'I Refuse To Grow Up (2001) I Was Born Ready Baby, Yeah!\\n',\n",
       " 'Today is Saturday - A Good Transportation Day (KBS, 2003) Show!\\n',\n",
       " 'In macrophages, it has also been shown to signal via STAT3.\\n',\n",
       " 'Did he not know that Allah had destroyed before him of generations those who were greater than him in power and greater in accumulation ?\\n',\n",
       " 'There is no evidence that Jesus was born on December 25.\\n',\n",
       " 'It is estimated that the information of 77 million users was compromised.\\n',\n",
       " 'We have to do something about that and it will be discussed by the F1 commission.\\n',\n",
       " 'We need more heroines like you, Tina.\\n',\n",
       " 'Africa has a relatively poor history of international cooperation in road-building.\\n',\n",
       " 'And what shoulder, & what art, Could twist the sinews of thy heart?\\n',\n",
       " 'Three (or one) aircraft were sold to Yemen.\\n',\n",
       " '\"The \"Burning Ship\" and Its Quasi-Julia Sets\".\\n',\n",
       " 'She is deeply grateful to Tomoya for this.\\n',\n",
       " 'How many were there of each class?\\n',\n",
       " 'DOWN TOWN DX Tensai!\\n',\n",
       " 'In his fantasy, this king, rather than Erik Wind, is his father.\\n',\n",
       " 'Yes, but a computer says more than a thousand pictures! ’Landscap 8 (1983).\\n',\n",
       " 'Could you destroy my body by cremation?\\n',\n",
       " '1883: la Vente de M. X...\\n',\n",
       " 'Quote:\"It\\'s used in all yoga sun salutations and other poses.\\n',\n",
       " '\"Moderna in line for $240m licensing deal\".\\n',\n",
       " 'What the hand, dare seize the fire?\\n',\n",
       " 'She died from tuberculosis (diagnosed already in 1931) while awaiting an American visa.\\n',\n",
       " '\"Sorry her lot who loves too well\" (Josephine) 5a.\\n',\n",
       " 'The \"Manger\" tune deserves a single.\\n',\n",
       " '\"Hockey-less GM Place made it perfect setting for video\".\\n',\n",
       " 'She was 59 years old, according to the ranch.\\n',\n",
       " 'The humor that is in it is at least akin to his.\\n',\n",
       " '1981–82 Les bons contes font les bons amis, Un d.m.i.\\n',\n",
       " 'You are the Prime Minister, with a majority of 18\\xa0... where do you think most of the poison is coming from?\\n',\n",
       " 'Could they all be as lonely?\\n',\n",
       " 'Both succeeded at a very young age....\\n',\n",
       " 'They collaborated in The Shakespeare Key, unlocking the Treasures of his Style ...\\n',\n",
       " 'Subsequently, these cities will require more religious freedoms: they wanted to have their own bishop.\\n',\n",
       " 'In Russia, attempts (sometimes successful) are made to restore such broken trees.\\n',\n",
       " 'Therefore take the talent from him and give it to the one who has ten.\\n',\n",
       " 'Indeed, he who associates others with Allah - Allah has forbidden him Paradise, and his refuge is the Fire.\\n',\n",
       " 'Had I passed the peanuts to a person, I wondered, or to an actor?\\n',\n",
       " \"My Life and The Paradise Garage: Keep On Dancin' .\\n\",\n",
       " 'Regale Lectum Miseriæ, or a Kingly Bed of Miserie.\\n',\n",
       " 'Indeed, we are inclined to prefer it beyond every other poem in the book; but let the reader judge.\\n',\n",
       " 'How to Be a Popular Hostess.\\n',\n",
       " 'The Zutons, The Go!\\n',\n",
       " 'Ce siècle avait deux ans (This century was two years old) «\\xa0Ce siècle avait deux ans\\xa0!\\n',\n",
       " 'The same structure is also observed for at least some of their solid solutions.\\n',\n",
       " 'Quel âge avez-vous\\xa0? – Soixante ans. – Vous êtes bien conservé.\\n',\n",
       " '4, Sae Nakata Chapter~This year, with you~ (ドラマCD アマガミ vol.4 中多紗江編~今年も、あなたと~).\\n',\n",
       " 'More than 31 schools, including Hunan University, were also burned down.\\n',\n",
       " 'He was prevented from contacting a lawyer until Friday 20 September.\\n',\n",
       " 'I would have 10 of him in the team if I could.\\n',\n",
       " 'Alexander, however, failed to hide his problems forever.\\n',\n",
       " 'Due to potential high e-mail volume you might request digest format.\\n',\n",
       " 'Try to escape from Berlin with the troops.\\n',\n",
       " '¡Alfaro Vive, Carajo!\\n',\n",
       " 'It Should.\" 1701News.com.\\n',\n",
       " 'Even some members of the Marx family wondered if he was pure myth.\\n',\n",
       " 'Un poeta adulto con ojos de niño, in the newspaper El Comercio.\\n',\n",
       " 'Wild Flowers Worth Knowing.\\n',\n",
       " 'This is a situation that many agricultural experts, especially in Sweden, would like to see changed.\\n',\n",
       " \"Bobby Fischer: That's not quite true.\\n\",\n",
       " 'Russian economic reforms as seen by an insider: success or failure?\\n',\n",
       " \"'Little Mike' was there, and he was speaking backwards...\\n\",\n",
       " '\"Rail deal offers city a remedy\".\\n',\n",
       " 'Which is also why I gained so much weight later on.\\n',\n",
       " 'They marched the prisoners back up the hill to murder them with the rest of the prisoners we had secured that morning....\\n',\n",
       " '5 jours en enfer, ou la fin du GM 100 en Indochine.\\n',\n",
       " 'These may be roughly equivalent to HEPA or ULPA filters (\\n',\n",
       " 'In 1976 his book Oog in oog met...\\n',\n",
       " 'Die Naturalobligation – Rechtsfigur und Instrument des Rechtsverkehrs einst und heute.\\n',\n",
       " '\"How we\\'re slowly killing our river\".\\n',\n",
       " 'Its mandate focuses on fisheries management up to kilometer 60.\\n',\n",
       " 'Miles Davis would never do that.\\n',\n",
       " '2010 Civil Society Transforms Morocco.\\n',\n",
       " 'Moi natif natal, suivi de Le Temps du vide.\\n',\n",
       " 'But say the word, and my servant will be healed.\\n',\n",
       " 'You must never refer to Asian men.\\n',\n",
       " 'Being a third volume; never before printed in English.\\n',\n",
       " 'On 8 May, the government provides 3 francs increase.\\n',\n",
       " 'In fact she, or rather, her advisors, tried to prevent these meetings.\\n',\n",
       " 'The SEK organised the largest and quickest deportation of the Holocaust.\\n',\n",
       " 'He answered, \"I was sent only to the lost sheep of Israel\".\\n',\n",
       " 'Eight short stories, including La donna ragno.\\n',\n",
       " 'Now we have rules on this Power Board here, ok?\\n',\n",
       " 'Être et renaître Inuit.\\n',\n",
       " 'Kim Hill) \"¿Que Dices?\"\\n',\n",
       " 'Why did he change from a physics professor to a Tibetologist.\\n',\n",
       " 'Epic Lives: One Hundred Black Women Who Made a Difference.\\n',\n",
       " 'In total, there have been 256 Provosts and Lord Provosts.\\n',\n",
       " 'Despite this, a team of seven men was employed to maintain the infrastructure through this period.\\n',\n",
       " 'State veterinarians, Am.\\n',\n",
       " 'Published by Fontenelle in his Nouvelles libertés de penser.\\n',\n",
       " 'Syn. vieilli de Milliard.\\n',\n",
       " '7, Attende Domine (Choral-Preludes op.\\n',\n",
       " '\"It kept me from getting into what was going on, the bad stuff.\\n',\n",
       " 'This is what happened in Johnson v. Parker.\\n',\n",
       " '6 and 7, Répons pour les Temps Liturgiques).\\n',\n",
       " '(\"Who Will Marry an Ignorant Woman?\"), followed in 1990.\\n',\n",
       " 'A dying Albanian has something important to reveal.\\n',\n",
       " 'Other prisoners who were with me had nobody either.\\n',\n",
       " \"She discovers that a groac'h lives there.\\n\",\n",
       " 'Animal Rights Weekend Warrior.\\n',\n",
       " 'So I think that Congress was really an eye-opener for me.\\n',\n",
       " 'Dialogue of conclusion: O Mort!\\n',\n",
       " 'Have I not destroyed the Greeks?\\n',\n",
       " 'Will notices that David locked the front door.\\n',\n",
       " 'But Allah tells (you) the Truth, and He shows the (right) Way.\\n',\n",
       " 'They decide to educate their future children together in the form of a \"hippie community.\"\\n',\n",
       " 'Talking Tom and Friends reached 300 million downloads 19 months after its launch.\\n',\n",
       " 'The Adelphi now may say alas!\\n',\n",
       " 'For example, 213 is further east than 237.\\n',\n",
       " 'Death will take away only what we wanted to possess.\\n',\n",
       " \"I'm not just gonna play a lot of Édith Piaf and Andrews Sisters.\\n\",\n",
       " 'Hence they are fed with rich food.\\n',\n",
       " '(1546) Look ere ye leap.\\n',\n",
       " 'Miryo 이 느낌 스파이 명월 하루 I LOVE YOU (Inst.)\\n',\n",
       " 'The owner of the company at the time liked to call his business “The three stripe company”.\\n',\n",
       " 'This influence is also present on One Night in Carcosa.\\n',\n",
       " '“Musings from a Trip to Japan (III) Kikai.”\\n',\n",
       " '12 (Text: Percy Bysshe Shelley) So loved and so loving, op.\\n',\n",
       " 'DMARC Promises A World Of Less Phishing.\\n',\n",
       " 'Lily Among the Goddesses.\\n',\n",
       " 'Before long, the Dragon King of the Sea also appears and dances.\\n',\n",
       " 'AT THE 24-YARD LINE!\\n',\n",
       " 'He decides to transform Yu into his ideal woman.\\n',\n",
       " 'We were more afraid of their style.\"\\n',\n",
       " '\"Online Career Site Receives $7 Million Angel Investment\".\\n',\n",
       " 'She loves women regardless of age.\\n',\n",
       " 'Cameron\\'s talent may just be as big as his dreams.\"\\n',\n",
       " 'Never did I think that I should be asked to lend money to a Rothschild!\"\\n',\n",
       " 'Do you want to tell me about a species I missed?\\n',\n",
       " 'Inhabitants of La Noue: Nouais.\\n',\n",
       " 'The international trade of 2,4,5-T is restricted by the Rotterdam Convention.\\n',\n",
       " '1998\\xa0: Si Dieu Veut...\\n',\n",
       " 'Same users as the 902.\\n',\n",
       " 'But with Bonnie there was a real tragic irony.\\n',\n",
       " '(Before Death, To Estonia!).\\n',\n",
       " 'In 2007 the biography Keep it Together!\\n',\n",
       " 'Real Monsters Action League Now!\\n',\n",
       " 'He had, however, anticipated what the French would do after 1684.\\n',\n",
       " 'At this point William was able to devote more time to politics.\\n',\n",
       " 'We were doing that for a whole year when Pussy Galore called.\\n',\n",
       " 'But that has nothing to do with God.”\\n',\n",
       " \"The irony is that she probably didn't see her victories.\\n\",\n",
       " \"Shark's mother is his only reference to a family currently.\\n\",\n",
       " 'Ho, brother Teague, dost hear the decree?\\n',\n",
       " 'Reynolds 531 is now only available by special order.\\n',\n",
       " 'This is the biggest weakness of Chinese TV and I hate it!\\n',\n",
       " 'I. Librement Interlude II.\\n',\n",
       " 'For this reason I am not convinced by what I call children of chemistry, or synthetic children.\\n',\n",
       " 'I mean, how many times can they save the world?\\n',\n",
       " 'You built a factory out there?\\n',\n",
       " 'Positions of 2246 stars brighter than 11.\\n',\n",
       " '2030 is a dream and a goal.\"\\n',\n",
       " 'Commentary and notes by Non Worrall.\\n',\n",
       " \"Get Your Ya-Ya's Out!\\n\",\n",
       " 'In 1913, a large portion of Belgium was accessible by telephone.\\n',\n",
       " 'I knew that I had seen Dr Fu-Manchu!\\n',\n",
       " '2002 Seyir; for 25 European and non-European instruments.\\n',\n",
       " 'At the 1913 UFA convention the committee presented a revised proposal.\\n',\n",
       " 'My rifle is human, even as I, because it is my life.\\n',\n",
       " \"Damn everyone that won't damn John Jay!\\n\",\n",
       " 'The French government thus wanted to thank those who, despite the crisis, were always volunteering.\\n',\n",
       " 'Voyage dans un pays au-dessus de tout soupçon.\\n',\n",
       " 'Bob Marley was never seen.\\n',\n",
       " 'It is a fact that a crime was committed here in the city 800 years ago.\"\\n',\n",
       " '\"Donald Tsang: you\\'ve got a message\".\\n',\n",
       " 'I gave the lady no time to squeal.\\n',\n",
       " 'The price, 35 cents, was also competitive.\\n',\n",
       " '2011: Two texts in J’aurais voté oui mais j’étais trop petit, Editas.\\n',\n",
       " 'Wooden Ships and Iron Men.\\n',\n",
       " '\"Ellen Page Says The Last Of Us\\' Ellie \"Ripped Off My Likeness\"\".\\n',\n",
       " '(1976) Gifford on courage.\\n',\n",
       " 'Argentina used an analogous method only once in 1992.\\n',\n",
       " \"Can't decide which river is Missouri.\\n\",\n",
       " 'Terrence Steadman is now dead?\\n',\n",
       " 'Jourdan Picked to Head State GOP Party.\\n',\n",
       " 'You are warned.\"\\n',\n",
       " 'Worldwide, the war and occupation have been officially condemned by 54 countries and the heads of many major religions.\\n',\n",
       " 'MA is contained in its quantum version, QMA.\\n',\n",
       " 'So in 1965 he asked me to come to his office - for the second time.\\n',\n",
       " 'C. S. Lewis: Letters to Children.\\n',\n",
       " 'Let the heavens be glad and let the earth rejoice.\\n',\n",
       " \"We just laugh, death 'n' roll, why not?\\n\",\n",
       " \"1967: Blowin' Your Mind!\\n\",\n",
       " 'Se pudésseis aqui ver poesia que não há!\"\\n',\n",
       " 'But is it really best to portray that pain in a painful way?\\n',\n",
       " '\"This brake is intended to be more than just a parking brake\".\\n',\n",
       " 'How big are the quakes?\\n',\n",
       " 'Rings shall vanish from our noses, And the harness from our back, Bit and spur shall rust forever, Cruel whips no more shall crack.\\n',\n",
       " 'Toute terre est prison, poème.\\n',\n",
       " \"I also believe he didn't like playing a homosexual on Broadway.\\n\",\n",
       " 'Elli Hatschek was arrested with her husband.\\n',\n",
       " 'Return to Power: A Report on the New Germany.\\n',\n",
       " \"2000\\xa0: Je vais bien, ne t'en fais pas, Le Dilettante.\\n\",\n",
       " 'We are not Kosovo.\\n',\n",
       " '86% of that funding was allocated through the SGP as defined in Law 715.\\n',\n",
       " 'This led to two preliminary tests in the state of Alaska; one occurred during January 2010.\\n',\n",
       " 'Edward Kofler – Linear Partial Information with Applications.\\n',\n",
       " 'Relations between the two countries remained largely de minimis however.\\n',\n",
       " 'I knew that you were much more than just a thief.\\n',\n",
       " 'When I got to know him better, Jimmy and I opened up to each other.\\n',\n",
       " 'The cyclone later killed one person in Georgia.\\n',\n",
       " '(Serie Orientale Roma 65).\\n',\n",
       " 'Hannah also sometimes tries to use her dual personality as an excuse.\\n',\n",
       " 'Tank Combat in North Africa: The Opening Rounds.\\n',\n",
       " \"As soon as I said I was going to call it '13', I started noticing 13 everywhere.\\n\",\n",
       " 'But it is a living being, who loves, who suffers, who has mercy.\\n',\n",
       " 'The Simian Tongue: The Long Debate about Animal Language.\\n',\n",
       " 'Libya, queen of Libya 11 and 12.\\n',\n",
       " 'K. 45a was probably among these six.\\n',\n",
       " '1928 — These two species are published by Gardner.\\n',\n",
       " 'If you want to recover places that you lost long since, try it.\\n',\n",
       " 'She also made A Little Basket Full of Beautiful Apples in 1856.\\n',\n",
       " 'XXXV.--An Act to establish a Nitre and Mining Bureau.\\n',\n",
       " 'A Swedish version, Jag vill tacka livet, came out the following year.\\n',\n",
       " '\"This is an artist\\'s rendering of heaven on earth.\\n',\n",
       " 'For the first time the theater opened its doors to all residents of Saratov.\\n',\n",
       " 'Part 769: Personal justice denied.\\n',\n",
       " 'Always the top of the pilots, Teela has two EX.\\n',\n",
       " 'From the treatise of Perictyone – On the Duties of a Woman.\\n',\n",
       " \"But Loveman's dream letter decided me....\\n\",\n",
       " 'Waterbury, John, et al. Little Things Matter A Lot.\\n',\n",
       " 'Germany and Austria at least lay at their mercy.\\n',\n",
       " 'Everyone seems to have an alibi except Anton.\\n',\n",
       " 'Several of the enemy were disposed of and a strong point destroyed.\\n',\n",
       " 'We need real independence by ending the occupation.\\n',\n",
       " 'However, the official title of \"Independent Party\" was used later on.\\n',\n",
       " 'I love it here in Nebraska and feel fortunate to be associated with such a great University and fan base.\\n',\n",
       " 'The Guardians will then reunite with Mantis so that they can escape.\\n',\n",
       " '1: Danse Slave op.\\n',\n",
       " 'In 1998 he went further and personally apologized to Clinton.\\n',\n",
       " 'What can Nextera do for you?\\n',\n",
       " \"And yeah I hope the same for Beyoncé, but I don't know if that's gonna happen.\\n\",\n",
       " 'There is a dispute among the scholars concerning some of the dates, and not all is agreed upon.\\n',\n",
       " 'Reprinted in his 1990 Realism with a Human Face.\\n',\n",
       " 'Come comunicare attraverso gli oggetti.\\n',\n",
       " 'Truly, Allah likes not the transgressors. .\\n',\n",
       " \"Interpersonal Sensitivity: Entering Others' Worlds.\\n\",\n",
       " 'There were these two women who were talking, but...\\n',\n",
       " 'On 9 May the majority (1,800) were forced to flee.\\n',\n",
       " 'It was going to be John making a political statement, but a very commercial one as well ...\\n',\n",
       " 'This is why I want to see more nuclear power in the UK and elsewhere, in order to avoid more carbon emissions\".\\n',\n",
       " '\"He\\'s Sure the Boy I Love\" – The Crystals.\\n',\n",
       " '(Note: This procedure was changed by the 12th Amendment in 1804.)\\n',\n",
       " 'However, there are potentially huge reserves elsewhere.\\n',\n",
       " 'I knew they were going to shoot them, and I hated this business....\\n',\n",
       " 'We were having a real \"black market\" of passports.\\n',\n",
       " 'However, neither John or James enjoyed working for a large corporation.\\n',\n",
       " 'Hood was partially responsible.\\n',\n",
       " 'Doggy Style Allstars Vol.\\n',\n",
       " 'They arrived before midnight and the Battle of Redwood started.\\n',\n",
       " 'It has thus almost entirely replaced dynamite.\\n',\n",
       " 'Variation 4 I am a pretty little Dutch girl As pretty as pretty can be.\\n',\n",
       " 'He concludes: \"On August 15, 1981, I was born for the first time in the Spirit as a Christian.\\n',\n",
       " 'Niko – One of the newest guys in the shop.\\n',\n",
       " '\"Wampas Ex-Baby Lives on WPA $23 – And Likes It.\"\\n',\n",
       " 'Gotuj z papieżem.\\n',\n",
       " 'But they did not leave completely, they were escorting us.\\n',\n",
       " '\"Silver Sally ran her own race\".\\n',\n",
       " 'How Do You Know That Zero Hedge is a Russian Information Operation?\\n',\n",
       " 'Queen and Kent had left Torbay on the same day.\\n',\n",
       " '\"Orçamento de filme sobre Lula já passa dos R$ 17 milhões\".\\n',\n",
       " '2007: Það kólnar í kvöld..\\n',\n",
       " 'Currently a program to Barcelona is about to be completed with the participation of 15 young people.\\n',\n",
       " \"From the Back of the Bus What's Happening?\\n\",\n",
       " '\"We\\'d failed in our under-ambition.\\n',\n",
       " 'Some will be surprised and regret that, by this, the trial of Multon and Hardy were separate.\\n',\n",
       " 'Ethnic power mobilized - Can South Africa change\\xa0?\\n',\n",
       " '(\"Battle of Ane, 28 july 1227, they also fought for our freedom\".)\\n',\n",
       " \"For God's will gave men their form, their essence and their abilities.\\n\",\n",
       " \"7 for All Mankind began by designing women's jeans.\\n\",\n",
       " 'Why is Tara Fitzgerald talking about Exeter?\\n',\n",
       " 'However, record has it that there were originally a total of 627 lions.\\n',\n",
       " '(Territorial issues should be settled by a peace treaty.)\\n',\n",
       " 'Then the world will realize that Eastern Asia is ours.\\n',\n",
       " 'Song: Dein Volk die dunklen Zeiten.\\n',\n",
       " 'Eventually, the name chosen for the lycée was Claude Monet.\\n',\n",
       " 'Cookbook (1998) Just Add Water (2001) (2006).\\n',\n",
       " 'La merveilleuse histoire de Hsi Men avec ses six femmes.\\n',\n",
       " 'The latter work, which criticized the double standard and discrimination against women, was translated into English.\\n',\n",
       " 'On what wings dare he aspire?\\n',\n",
       " 'How shall he cut it Without a knife?\\n',\n",
       " 'They can also send them as messages that destroy themselves in 48 hours.\\n',\n",
       " 'In fact, it takes a lot of preparation...\\n',\n",
       " 'The Committee of the Admiralty of Amsterdam was nearly always filled by former mayors.\\n',\n",
       " 'I was the first to really go after George W. on his treatment of prisoners.\\n',\n",
       " 'Will.i.am wearing a hat that says \"KING\"!\\n',\n",
       " 'Will she learn anything or not?\\n',\n",
       " 'Really dark roles, which I like.\\n',\n",
       " '\"Historic Fleets: Fixer and Fighter.\"\\n',\n",
       " 'Undicesimo Rapporto sulle condizioni di detenzione in Italia.\\n',\n",
       " 'As of March 1989, ACT (including InterACT) had about 140 employees.\\n',\n",
       " 'A third candidate, the Moyero, is more controversial.\\n',\n",
       " '418 Gallery, Bucharest 2012 Chance as Strategy.\\n',\n",
       " 'For these natives the Japanese had at first a kind word and a smile.\\n',\n",
       " '\"Where Does the Water Go When I Flush the Toilet?\"\\n',\n",
       " '(1542) When the sun shineth, make hay.\\n',\n",
       " \"And then we'd just find the most obvious bogan and follow them around.\\n\",\n",
       " 'Jackson stated, \"Our Federal Union!\\n',\n",
       " '(1983), followed this tradition.\\n',\n",
       " '\"FRANCE CELEBRATES MLLE.\\n',\n",
       " 'From 100 to 150 is not bad.\\n',\n",
       " 'Herrn Böckelmanns schönste Tafelgeschichten nach dem ABC geordnet.\\n',\n",
       " 'Paris was magnificent, but where was the young painter?\\n',\n",
       " 'Chapter 17: \"Translation Criticism\".\\n',\n",
       " 'You’ve made lots of cakes for Mary Berry\\'.\"\\n',\n",
       " '1780: Leichtsinn und gutes Herz oder die Folgen der Erziehung.\\n',\n",
       " 'Among other reasons, this idea fails because there is no \"final 9\" in 0.999....\\n',\n",
       " '\"Does \\'The Purge\\' Sound Familiar?\\n',\n",
       " \"Georgian Parliament Speak In Support Of Belarusian Opposition - Charter'97.\\n\",\n",
       " 'During seven months you gave everything I demanded of you.\\n',\n",
       " '\"What would Allah say?\\n',\n",
       " '\"It was always going to be something creative.\\n',\n",
       " 'Mama, ia zhulika liubliu!: roman.\\n',\n",
       " 'About 25% of his publications were of anonymous authors; these were usually political or religious works.\\n',\n",
       " \"(It's not like we crawled over the finish line or anything.)\\n\",\n",
       " '\"Slayer of Six Children Hangs Himself in Cell.\"\\n',\n",
       " 'I do not believe you acted in defense of Major Umbach or yourself.\\n',\n",
       " 'With the help of God I will call him to account for so much innocent blood.\"\\n',\n",
       " 'His work was also acknowledged by the Norwegian Government, among others.\\n',\n",
       " 'Others questioned why the Panamanian government continues to use equipment donated by Taiwan.\\n',\n",
       " 'The flag which has protected you during nearly 36 years will no longer be seen.\\n',\n",
       " 'It is there that their paths cross for the first time, and permanently.\\n',\n",
       " '1950\\xa0: Starts photographing intensively for Le Corbusier.\\n',\n",
       " 'This is because you chose the wrong Son of Heaven.\\n',\n",
       " '\"Haven\\'t they learned the lesson from what Allah wreaked upon the coast of Asia, during the celebration of these forbidden?\\n',\n",
       " 'Yojibei is not well – has gone mad.\\n',\n",
       " 'See the original of the list of members of the Déjeuners de bonne humeur.\\n',\n",
       " 'It takes only a minute to light my little oil heater and make some George Washington Coffee\\xa0 ...\\n',\n",
       " \"(Commercial) Raymond: Well, we're about to begin our story.\\n\",\n",
       " 'It was as if he had reached out from his buried tent and taken revenge.\"\\n',\n",
       " 'Is Christ divided?\\n',\n",
       " 'And Allah will defend thee from men (who mean mischief).\\n',\n",
       " 'I will always be at my station, alert and attending to my duties.\\n',\n",
       " 'I know that for America there will always be a bright dawn ahead.\\n',\n",
       " 'God forbid he should have the fate of Harold.\\n',\n",
       " 'The French government \"offered this building\" to the BIPM.\\n',\n",
       " 'In addition, the French government of Charles X was beginning to have doubts about its Greek policy.\\n',\n",
       " 'He has the first half of our century under his belt, but not on his back.\\n',\n",
       " 'According to John Carmack, the development took longer than expected.\\n',\n",
       " 'Olaf and Olaf II had been baptized voluntarily outside of Norway.\\n',\n",
       " 'David Palmer begins to discover corruption within the government.\\n',\n",
       " 'It is a nation that has been conquered and will rise again.\"\\n',\n",
       " '(2008) \"The Rise of Animals.\\n',\n",
       " 'In 2000, he participated in \"Literary Express\" with representatives from 40 European countries.\\n',\n",
       " 'You report us with your mouth, and we cut off your lips?\\n',\n",
       " 'However, Bulgarin appears and has the entire Politburo arrested.\\n',\n",
       " 'Lo! body and soul Sing on! you gray-brown bird Death Carol.\\n',\n",
       " 'The kingdom had a particularly bloody succession.\\n',\n",
       " '1965\\xa0– You Better Run.\\n',\n",
       " 'He was the vice president that I reported to back in the day.\\n',\n",
       " 'Das römische Privatrecht im 1.\\n',\n",
       " 'Duane is working on the final volume.\\n',\n",
       " 'Ali Al-Salih (Ali Al-Saleh), Salam 59.\\n',\n",
       " 'Sounds like what happened with me... / Rei: An orphan...\\n',\n",
       " 'Wie Ernst Rüesch junge Spitzel zum Einsatzort fuhr.\\n',\n",
       " 'Also stalled for the dark premise, James Tucker would have been producer for this mid/late 2000s series.\\n',\n",
       " 'This firm had already built a similar but much larger station in Maine, USA.\\n',\n",
       " 'That will really be my spaghetti Western but with World War II iconography.\\n',\n",
       " 'Christmas 4 and recommended downloading it.\\n',\n",
       " 'He was an engineer in 2121, and loves \"older music\".\\n',\n",
       " '\"Suite for Children\" in Folk Style 7.\\n',\n",
       " 'Historical Development of Japanese Local Governance Vol.\\n',\n",
       " 'Some of his political writings are criticisms of Nakba Day.\\n',\n",
       " 'I love bad guys and I love Red Dead Redemption.\\n',\n",
       " 'Congolese Immigrants Search For A Voice.\\n',\n",
       " 'An adaptation of So You Want to be a Wizard is currently in the works.\\n',\n",
       " 'Within 20 years, there will be more reasons to be proud of being Japanese, than of being European.\\n',\n",
       " 'Todo lo que los jóvenes quieren saber para un sexo sin duda.\\n',\n",
       " 'Peut-on préparer un poison qui tue à une époque déterminée?\\n',\n",
       " '\"Tweety-Bird Replacement\".\\n',\n",
       " 'And Allah is Forgiving and Merciful.\\n',\n",
       " 'Guess what?\\xa0:-) The Net provides just such an arena!\\n',\n",
       " 'This report, written by a wide-ranging commission, proposed 44 reforms.\\n',\n",
       " 'How Not to be a Domestic Goddess: (And Always Go to Bed on an Argument).\\n',\n",
       " 'I guarantee that you will be able to build a church and that your missionaries will be protected.\\n',\n",
       " 'He armed(?) (his) men in the west.\\n',\n",
       " 'Programming Languages as Operating Systems (or, Revenge of the Son of the Lisp Machine).\\n',\n",
       " 'He swore an oath to kill ten bears for every victim of the attack.\\n',\n",
       " 'What in the name of all the Saints has your Friedrich done to you?\\n',\n",
       " '\"Three Types of Redemption in Japanese Folk Religion.\"\\n',\n",
       " \"A word in the computer's memory could be read, written, or refreshed, in 360\\xa0microseconds.\\n\",\n",
       " '\"Coming Soon to a Carrier Near You: Avenger\".\\n',\n",
       " 'The attitude of the Luxembourgish government may be surprising today.\\n',\n",
       " 'Popotan (おしえて！ぽぽたん, Teach Me!\\n',\n",
       " 'Cicero Defense Speeches.\\n',\n",
       " 'The next easiest target is Venus.\\n',\n",
       " 'The queen dwells in one of them; it is my birthplace.\\n',\n",
       " 'Only a pro-German government can save us...\\n',\n",
       " '\"Who Are These Independent Information Brokers?\"\\n',\n",
       " 'She loves anman (a kind of mantou) and claims it as \"source of life\".\\n',\n",
       " '\"Where is My Friend\\'s House? (1987)\".\\n',\n",
       " 'In Boston proper, four hills were quickly fortified.\\n',\n",
       " \"Göring's control over all aspects of aviation became absolute.\\n\",\n",
       " 'I replied to him, ‘Monsieur, we have proclaimed a woman is a human being.’\\n',\n",
       " 'She may also be the narrator of chapter 8.\\n',\n",
       " 'He also kills Tommy before he can become the White Ranger.\\n',\n",
       " '\"Never Had It\" (featuring Young Dolph) 06.\\n',\n",
       " 'The report also included some 31 measures devised to reinforce the position of the French language in the workplace.\\n',\n",
       " \"M.I.A.'s radical clip banned by YouTube in the US.\\n\",\n",
       " 'The train, named Black Mask is controlled by an A.I..\\n',\n",
       " 'But they think that when I say two good words about some Armenian I must say three good ones about an Azerbaijani.\\n',\n",
       " 'Native pastures in Queensland their resources and management.\\n',\n",
       " 'But she had all the physical information.\\n',\n",
       " \"I'm hurt, very hurt! … For us, this is a very great loss.\\n\",\n",
       " 'Whoever sees my portrait by Garand, sees me.\\n',\n",
       " 'Covering All The BASICs PCOPY!\\n',\n",
       " 'Lella Vignelli, My ideas are always clear.\\n',\n",
       " 'You can’t do that with the hardest group in the game.\"\\n',\n",
       " 'The way of the spirit is higher, more noble; it brings one closer to God.\\n',\n",
       " \"The 'b' at the end of their names indicates that the bodies are planets.\\n\",\n",
       " 'However, he found his vocation in cricket.\\n',\n",
       " 'Gatack Hyper Form!!\\n',\n",
       " 'Be a good girl, mind what Miss Connor says to you.\\n',\n",
       " '(1993) Robust methods for personal income distribution models.\\n',\n",
       " 'The final answer for c is therefore 445, as in the first method.\\n',\n",
       " 'However, during the second performance of the night, a technical problem in the voting system occurred.\\n',\n",
       " 'He introduced her to Lord Byron (at both their requests).\\n',\n",
       " 'The message said, \"Didn\\'t you all learn from Chicken Little?\\n',\n",
       " 'Scientists have been able to identify 60 destructive earthquakes in the past.\\n',\n",
       " \"How many posters did you see in people's windows?\\n\",\n",
       " 'One difficulty, though, is that people have a large amount of knowledge about themselves, but no knowledge about others.\\n',\n",
       " 'In England he was a creator of dreams.\\n',\n",
       " 'Il était une fois... le Québec rouge.\\n',\n",
       " 'Sixteen EU countries expelled 33 Russian diplomats on 26 March.\\n',\n",
       " \"Les matins Nov Tu l'as lu dit\\xa0?\\n\",\n",
       " 'Although sonar helps to protect us, it is destroying marine life.\\n',\n",
       " 'Many variations on the theme were immediately suggested by Scott and others.\\n',\n",
       " 'She has remonstrated, reasoned, suffered, and toiled, again and again, to prevent a separation between Mrs. Dickens and me.\\n',\n",
       " 'These account for 80% of the aircraft type made for civilian use.\\n',\n",
       " \"Because I don't want the best tattoo shop in New York, I want the best shop in the world.\\n\",\n",
       " 'For this reason, experts consider Law No. 5651 particularly controversial.\\n',\n",
       " 'What a bunch of fucking fair-weather fucking—they can all kiss my ass out the fucking door.\\n',\n",
       " 'He also lost to Josh Daniels the following night.\\n',\n",
       " 'Sermon 86, Is a very long and famous sermon.\\n',\n",
       " 'Notice sur H. Michelin et ses collections.\\n',\n",
       " 'For our children and for you, Samantha.\\n',\n",
       " 'How can it be so easy to send planes in another country to kill everybody in a second and destroy lives.\\n',\n",
       " '\"I hope I implement a lot of bad ideas...\\n',\n",
       " \"It's such a great idea with so much potential.\\n\",\n",
       " 'It also appeared in the same year under the name La Libre parole politique et sociale.\\n',\n",
       " 'I wanted to make a movie dedicated to Ken Takakura.\"\\n',\n",
       " 'But this time his awakening will be better.\\n',\n",
       " 'I’ve also upped my intake of vegetables and I’m drinking a lot more water.\"\\n',\n",
       " 'One way to express certain feelings in the battle we are in.\\n',\n",
       " 'In fact, every winter he was able to produce a play for the Queen herself.\\n',\n",
       " 'The Return of the 5000 Lb.\\n',\n",
       " 'The Seven Sisters of Sleep.\\n',\n",
       " \"The S.55's greatest successes, however, were its many flights between Europe and the Americas.\\n\",\n",
       " \"Frankly, what we've seen is the ugly side of the beautiful game and he should go.\\n\",\n",
       " '\"50 Cent, Worth a Million to Dr. Dre and Eminem\".\\n',\n",
       " 'We want a coalition similar to what happened in Kosovo and the Ivory Coast.\"\\n',\n",
       " '2012 - Lado a Lado ....\\n',\n",
       " 'Politically Correct Death.\\n',\n",
       " 'We have tried you good people of the public and we have found you wanting.\\n',\n",
       " 'La «\\xa0tête Laborde\\xa0» rendue à elle-même.\\n',\n",
       " \"If that was the case, we wouldn't be doing this Ozzfest.\\n\",\n",
       " 'At the time, 43% of Wellesley College graduates never married.\\n',\n",
       " 'The Chicago report gives an indication of what the full report might hold.\\n',\n",
       " 'They state n = 23 {\\\\displaystyle n=23} as an open problem.\\n',\n",
       " 'Mort et Naissance le monde Sereer.\\n',\n",
       " 'She also uses Hannah in other ways.\\n',\n",
       " 'Any threat to Saudi Arabia is also a threat to Pakistan.\\n',\n",
       " 'How You Sell Soul to a Soulless People Who Sold Their Soul?.\\n',\n",
       " 'There is only so much that can be learned from how J18 was organised.\\n',\n",
       " '\"Revealed – the Carstairs patient who costs you £630K a year\".\\n',\n",
       " 'February 2015 - American Banker.\\n',\n",
       " 'Poems & Prose Pieces of War & Civil Conflict Heart of Africa!\\n',\n",
       " 'However, no original sources and historical records mention any open challenge of George after 1327.\\n',\n",
       " 'Behold, the heaven and the heaven of heavens cannot contain You.\"\\n',\n",
       " 'Note, however, that the list is for people who are principally philosophers.\\n',\n",
       " 'Abrégé de la Vie de Jacques II, in-12.\\n',\n",
       " 'La Reine, argument de ballet.\\n',\n",
       " 'She also directed UNIT: The Wasting and Judge Dredd: 99 Code Red!.\\n',\n",
       " 'Hate the Old and Follow the New.\\n',\n",
       " \"We had a steady job, which was the rarest thing in music.'\\n\",\n",
       " '\"Hit-making Nickel Creek tries to catch its breath\".\\n',\n",
       " 'But he would never again find the success of Dix-neuf ans.\\n',\n",
       " 'WAR uses the slogan White Revolution is the Only Solution.\\n',\n",
       " 'How do you feed your family?\"\\n',\n",
       " 'Why are progressive, liberal organizations increasingly tolerant of anti-Zionist language and actions?\\n',\n",
       " 'Stalingrad: Dogs, Do You Want to Live Forever?\\n',\n",
       " 'Le Matin confirmed 9 arrests.\\n',\n",
       " 'It was headed toward the school, which panicked me, because all three of my kids were there.\\n',\n",
       " '\"Robin John Tillyard.\\n',\n",
       " 'Academics call it a bogus trend.\\n',\n",
       " 'Whereunto is prefixed a discourse declaring not only the lawfullnes, but also the necessity of the heavenly Ordinance of singing Scripture Psalmes in the Churches of God.\\n',\n",
       " '\"Jeez, Bobby, I\\'m going into the studio to do that myself in a few weeks.\\n',\n",
       " 'See also «\\xa0Un réveillon pas comme les autres pour les Pastoureaux.\\n',\n",
       " 'He also worked with Pebbles and 98 Degrees.\\n',\n",
       " 'It saved this position & probably the battlefield.\\n',\n",
       " 'If the Everly Brothers can do it, me and Paul can.\\n',\n",
       " 'Repenser les processus créateurs/Rethinking Creative Processes.\\n',\n",
       " 'The woman replied, \"There were guests in the house, but I do not know how many there were.\\n',\n",
       " 'Keep Thou my feet; I do not ask to see The distant scene; one step enough for me.\\n',\n",
       " 'There are a lot of things about the Saturn that are totally dumb.\\n',\n",
       " 'No distinction is made between a few criminals and the overwhelming majority of the Roma population.\\n',\n",
       " 'He invested in hotels and my brother never again saw his money.\\n',\n",
       " '\"Bakshi knows a thing or two about grime.\\n',\n",
       " '\"Police Say Man May Have Slain 6 Youths.\"\\n',\n",
       " 'However, he remained a regular smoker.)\\n',\n",
       " 'Sunflowers (fan club only release.)\\n',\n",
       " 'M were still in service.\\n',\n",
       " 'La Riviera que j’ai connue, éd.\\n',\n",
       " 'Do we want three more of the bastards out there?\\n',\n",
       " 'Guallauc) et Morcant, dimicaverunt.\\n',\n",
       " '\"S.O.S Bertrand Teyou!\".\\n',\n",
       " ...]"
      ]
     },
     "execution_count": 24,
     "metadata": {},
     "output_type": "execute_result"
    }
   ],
   "source": [
    "class TranslationDataset(torch.utils.data.Dataset):\n",
    "    def __init__(self, source_encodings, target_encodings):\n",
    "        self.encodings = encodings\n",
    "        self.labels = labels\n",
    "\n",
    "    def __getitem__(self, idx):\n",
    "        item = {key: torch.tensor(val[idx]) for key, val in self.encodings.items()}\n",
    "        item['labels'] = torch.tensor(self.labels[idx])\n",
    "        return item\n",
    "\n",
    "    def __len__(self):\n",
    "        return len(self.labels)"
   ]
  },
  {
   "cell_type": "code",
   "execution_count": 5,
   "metadata": {},
   "outputs": [],
   "source": [
    "dataset_en_fr = load_from_disk(\"./data/en-fr\")"
   ]
  },
  {
   "cell_type": "code",
   "execution_count": 18,
   "metadata": {},
   "outputs": [
    {
     "data": {
      "text/plain": [
       "{'en': '\"Allah is the Light of the heavens and the earth.',\n",
       " 'fr': \"À titre d'exemple, le verset de la lumière\\xa0: «\\xa0Allah est la Lumière des cieux et de la terre.\"}"
      ]
     },
     "execution_count": 18,
     "metadata": {},
     "output_type": "execute_result"
    }
   ],
   "source": [
    "dataset_en_fr[\"train\"]"
   ]
  },
  {
   "cell_type": "code",
   "execution_count": 17,
   "metadata": {},
   "outputs": [
    {
     "data": {
      "application/vnd.jupyter.widget-view+json": {
       "model_id": "ce36a2547ba141bbb47aa328fc9d2e1b",
       "version_major": 2,
       "version_minor": 0
      },
      "text/plain": [
       "Map:   0%|          | 0/98 [00:00<?, ? examples/s]"
      ]
     },
     "metadata": {},
     "output_type": "display_data"
    },
    {
     "ename": "ValueError",
     "evalue": "too many values to unpack (expected 2)",
     "output_type": "error",
     "traceback": [
      "\u001b[0;31m---------------------------------------------------------------------------\u001b[0m",
      "\u001b[0;31mValueError\u001b[0m                                Traceback (most recent call last)",
      "\u001b[0;32m/var/tmp/ipykernel_9942/1601172653.py\u001b[0m in \u001b[0;36m<module>\u001b[0;34m\u001b[0m\n\u001b[1;32m      8\u001b[0m     \u001b[0;32mreturn\u001b[0m \u001b[0mmodel_inputs\u001b[0m\u001b[0;34m\u001b[0m\u001b[0;34m\u001b[0m\u001b[0m\n\u001b[1;32m      9\u001b[0m \u001b[0;34m\u001b[0m\u001b[0m\n\u001b[0;32m---> 10\u001b[0;31m \u001b[0mtokenized_dataset_en_fr\u001b[0m \u001b[0;34m=\u001b[0m \u001b[0mdataset_en_fr\u001b[0m\u001b[0;34m.\u001b[0m\u001b[0mmap\u001b[0m\u001b[0;34m(\u001b[0m\u001b[0mpreprocess_function\u001b[0m\u001b[0;34m,\u001b[0m \u001b[0mbatched\u001b[0m\u001b[0;34m=\u001b[0m\u001b[0;32mTrue\u001b[0m\u001b[0;34m)\u001b[0m\u001b[0;34m\u001b[0m\u001b[0;34m\u001b[0m\u001b[0m\n\u001b[0m",
      "\u001b[0;32m/opt/conda/lib/python3.7/site-packages/datasets/dataset_dict.py\u001b[0m in \u001b[0;36mmap\u001b[0;34m(self, function, with_indices, with_rank, input_columns, batched, batch_size, drop_last_batch, remove_columns, keep_in_memory, load_from_cache_file, cache_file_names, writer_batch_size, features, disable_nullable, fn_kwargs, num_proc, desc)\u001b[0m\n\u001b[1;32m    869\u001b[0m                     \u001b[0mdesc\u001b[0m\u001b[0;34m=\u001b[0m\u001b[0mdesc\u001b[0m\u001b[0;34m,\u001b[0m\u001b[0;34m\u001b[0m\u001b[0;34m\u001b[0m\u001b[0m\n\u001b[1;32m    870\u001b[0m                 )\n\u001b[0;32m--> 871\u001b[0;31m                 \u001b[0;32mfor\u001b[0m \u001b[0mk\u001b[0m\u001b[0;34m,\u001b[0m \u001b[0mdataset\u001b[0m \u001b[0;32min\u001b[0m \u001b[0mself\u001b[0m\u001b[0;34m.\u001b[0m\u001b[0mitems\u001b[0m\u001b[0;34m(\u001b[0m\u001b[0;34m)\u001b[0m\u001b[0;34m\u001b[0m\u001b[0;34m\u001b[0m\u001b[0m\n\u001b[0m\u001b[1;32m    872\u001b[0m             }\n\u001b[1;32m    873\u001b[0m         )\n",
      "\u001b[0;32m/opt/conda/lib/python3.7/site-packages/datasets/dataset_dict.py\u001b[0m in \u001b[0;36m<dictcomp>\u001b[0;34m(.0)\u001b[0m\n\u001b[1;32m    869\u001b[0m                     \u001b[0mdesc\u001b[0m\u001b[0;34m=\u001b[0m\u001b[0mdesc\u001b[0m\u001b[0;34m,\u001b[0m\u001b[0;34m\u001b[0m\u001b[0;34m\u001b[0m\u001b[0m\n\u001b[1;32m    870\u001b[0m                 )\n\u001b[0;32m--> 871\u001b[0;31m                 \u001b[0;32mfor\u001b[0m \u001b[0mk\u001b[0m\u001b[0;34m,\u001b[0m \u001b[0mdataset\u001b[0m \u001b[0;32min\u001b[0m \u001b[0mself\u001b[0m\u001b[0;34m.\u001b[0m\u001b[0mitems\u001b[0m\u001b[0;34m(\u001b[0m\u001b[0;34m)\u001b[0m\u001b[0;34m\u001b[0m\u001b[0;34m\u001b[0m\u001b[0m\n\u001b[0m\u001b[1;32m    872\u001b[0m             }\n\u001b[1;32m    873\u001b[0m         )\n",
      "\u001b[0;32m/opt/conda/lib/python3.7/site-packages/datasets/arrow_dataset.py\u001b[0m in \u001b[0;36mwrapper\u001b[0;34m(*args, **kwargs)\u001b[0m\n\u001b[1;32m    576\u001b[0m             \u001b[0mself\u001b[0m\u001b[0;34m:\u001b[0m \u001b[0;34m\"Dataset\"\u001b[0m \u001b[0;34m=\u001b[0m \u001b[0mkwargs\u001b[0m\u001b[0;34m.\u001b[0m\u001b[0mpop\u001b[0m\u001b[0;34m(\u001b[0m\u001b[0;34m\"self\"\u001b[0m\u001b[0;34m)\u001b[0m\u001b[0;34m\u001b[0m\u001b[0;34m\u001b[0m\u001b[0m\n\u001b[1;32m    577\u001b[0m         \u001b[0;31m# apply actual function\u001b[0m\u001b[0;34m\u001b[0m\u001b[0;34m\u001b[0m\u001b[0;34m\u001b[0m\u001b[0m\n\u001b[0;32m--> 578\u001b[0;31m         \u001b[0mout\u001b[0m\u001b[0;34m:\u001b[0m \u001b[0mUnion\u001b[0m\u001b[0;34m[\u001b[0m\u001b[0;34m\"Dataset\"\u001b[0m\u001b[0;34m,\u001b[0m \u001b[0;34m\"DatasetDict\"\u001b[0m\u001b[0;34m]\u001b[0m \u001b[0;34m=\u001b[0m \u001b[0mfunc\u001b[0m\u001b[0;34m(\u001b[0m\u001b[0mself\u001b[0m\u001b[0;34m,\u001b[0m \u001b[0;34m*\u001b[0m\u001b[0margs\u001b[0m\u001b[0;34m,\u001b[0m \u001b[0;34m**\u001b[0m\u001b[0mkwargs\u001b[0m\u001b[0;34m)\u001b[0m\u001b[0;34m\u001b[0m\u001b[0;34m\u001b[0m\u001b[0m\n\u001b[0m\u001b[1;32m    579\u001b[0m         \u001b[0mdatasets\u001b[0m\u001b[0;34m:\u001b[0m \u001b[0mList\u001b[0m\u001b[0;34m[\u001b[0m\u001b[0;34m\"Dataset\"\u001b[0m\u001b[0;34m]\u001b[0m \u001b[0;34m=\u001b[0m \u001b[0mlist\u001b[0m\u001b[0;34m(\u001b[0m\u001b[0mout\u001b[0m\u001b[0;34m.\u001b[0m\u001b[0mvalues\u001b[0m\u001b[0;34m(\u001b[0m\u001b[0;34m)\u001b[0m\u001b[0;34m)\u001b[0m \u001b[0;32mif\u001b[0m \u001b[0misinstance\u001b[0m\u001b[0;34m(\u001b[0m\u001b[0mout\u001b[0m\u001b[0;34m,\u001b[0m \u001b[0mdict\u001b[0m\u001b[0;34m)\u001b[0m \u001b[0;32melse\u001b[0m \u001b[0;34m[\u001b[0m\u001b[0mout\u001b[0m\u001b[0;34m]\u001b[0m\u001b[0;34m\u001b[0m\u001b[0;34m\u001b[0m\u001b[0m\n\u001b[1;32m    580\u001b[0m         \u001b[0;32mfor\u001b[0m \u001b[0mdataset\u001b[0m \u001b[0;32min\u001b[0m \u001b[0mdatasets\u001b[0m\u001b[0;34m:\u001b[0m\u001b[0;34m\u001b[0m\u001b[0;34m\u001b[0m\u001b[0m\n",
      "\u001b[0;32m/opt/conda/lib/python3.7/site-packages/datasets/arrow_dataset.py\u001b[0m in \u001b[0;36mwrapper\u001b[0;34m(*args, **kwargs)\u001b[0m\n\u001b[1;32m    541\u001b[0m         }\n\u001b[1;32m    542\u001b[0m         \u001b[0;31m# apply actual function\u001b[0m\u001b[0;34m\u001b[0m\u001b[0;34m\u001b[0m\u001b[0;34m\u001b[0m\u001b[0m\n\u001b[0;32m--> 543\u001b[0;31m         \u001b[0mout\u001b[0m\u001b[0;34m:\u001b[0m \u001b[0mUnion\u001b[0m\u001b[0;34m[\u001b[0m\u001b[0;34m\"Dataset\"\u001b[0m\u001b[0;34m,\u001b[0m \u001b[0;34m\"DatasetDict\"\u001b[0m\u001b[0;34m]\u001b[0m \u001b[0;34m=\u001b[0m \u001b[0mfunc\u001b[0m\u001b[0;34m(\u001b[0m\u001b[0mself\u001b[0m\u001b[0;34m,\u001b[0m \u001b[0;34m*\u001b[0m\u001b[0margs\u001b[0m\u001b[0;34m,\u001b[0m \u001b[0;34m**\u001b[0m\u001b[0mkwargs\u001b[0m\u001b[0;34m)\u001b[0m\u001b[0;34m\u001b[0m\u001b[0;34m\u001b[0m\u001b[0m\n\u001b[0m\u001b[1;32m    544\u001b[0m         \u001b[0mdatasets\u001b[0m\u001b[0;34m:\u001b[0m \u001b[0mList\u001b[0m\u001b[0;34m[\u001b[0m\u001b[0;34m\"Dataset\"\u001b[0m\u001b[0;34m]\u001b[0m \u001b[0;34m=\u001b[0m \u001b[0mlist\u001b[0m\u001b[0;34m(\u001b[0m\u001b[0mout\u001b[0m\u001b[0;34m.\u001b[0m\u001b[0mvalues\u001b[0m\u001b[0;34m(\u001b[0m\u001b[0;34m)\u001b[0m\u001b[0;34m)\u001b[0m \u001b[0;32mif\u001b[0m \u001b[0misinstance\u001b[0m\u001b[0;34m(\u001b[0m\u001b[0mout\u001b[0m\u001b[0;34m,\u001b[0m \u001b[0mdict\u001b[0m\u001b[0;34m)\u001b[0m \u001b[0;32melse\u001b[0m \u001b[0;34m[\u001b[0m\u001b[0mout\u001b[0m\u001b[0;34m]\u001b[0m\u001b[0;34m\u001b[0m\u001b[0;34m\u001b[0m\u001b[0m\n\u001b[1;32m    545\u001b[0m         \u001b[0;31m# re-apply format to the output\u001b[0m\u001b[0;34m\u001b[0m\u001b[0;34m\u001b[0m\u001b[0;34m\u001b[0m\u001b[0m\n",
      "\u001b[0;32m/opt/conda/lib/python3.7/site-packages/datasets/arrow_dataset.py\u001b[0m in \u001b[0;36mmap\u001b[0;34m(self, function, with_indices, with_rank, input_columns, batched, batch_size, drop_last_batch, remove_columns, keep_in_memory, load_from_cache_file, cache_file_name, writer_batch_size, features, disable_nullable, fn_kwargs, num_proc, suffix_template, new_fingerprint, desc)\u001b[0m\n\u001b[1;32m   3071\u001b[0m                     \u001b[0mdesc\u001b[0m\u001b[0;34m=\u001b[0m\u001b[0mdesc\u001b[0m \u001b[0;32mor\u001b[0m \u001b[0;34m\"Map\"\u001b[0m\u001b[0;34m,\u001b[0m\u001b[0;34m\u001b[0m\u001b[0;34m\u001b[0m\u001b[0m\n\u001b[1;32m   3072\u001b[0m                 ) as pbar:\n\u001b[0;32m-> 3073\u001b[0;31m                     \u001b[0;32mfor\u001b[0m \u001b[0mrank\u001b[0m\u001b[0;34m,\u001b[0m \u001b[0mdone\u001b[0m\u001b[0;34m,\u001b[0m \u001b[0mcontent\u001b[0m \u001b[0;32min\u001b[0m \u001b[0mDataset\u001b[0m\u001b[0;34m.\u001b[0m\u001b[0m_map_single\u001b[0m\u001b[0;34m(\u001b[0m\u001b[0;34m**\u001b[0m\u001b[0mdataset_kwargs\u001b[0m\u001b[0;34m)\u001b[0m\u001b[0;34m:\u001b[0m\u001b[0;34m\u001b[0m\u001b[0;34m\u001b[0m\u001b[0m\n\u001b[0m\u001b[1;32m   3074\u001b[0m                         \u001b[0;32mif\u001b[0m \u001b[0mdone\u001b[0m\u001b[0;34m:\u001b[0m\u001b[0;34m\u001b[0m\u001b[0;34m\u001b[0m\u001b[0m\n\u001b[1;32m   3075\u001b[0m                             \u001b[0mshards_done\u001b[0m \u001b[0;34m+=\u001b[0m \u001b[0;36m1\u001b[0m\u001b[0;34m\u001b[0m\u001b[0;34m\u001b[0m\u001b[0m\n",
      "\u001b[0;32m/opt/conda/lib/python3.7/site-packages/datasets/arrow_dataset.py\u001b[0m in \u001b[0;36m_map_single\u001b[0;34m(shard, function, with_indices, with_rank, input_columns, batched, batch_size, drop_last_batch, remove_columns, keep_in_memory, cache_file_name, writer_batch_size, features, disable_nullable, fn_kwargs, new_fingerprint, rank, offset)\u001b[0m\n\u001b[1;32m   3451\u001b[0m                                 \u001b[0mindices\u001b[0m\u001b[0;34m,\u001b[0m\u001b[0;34m\u001b[0m\u001b[0;34m\u001b[0m\u001b[0m\n\u001b[1;32m   3452\u001b[0m                                 \u001b[0mcheck_same_num_examples\u001b[0m\u001b[0;34m=\u001b[0m\u001b[0mlen\u001b[0m\u001b[0;34m(\u001b[0m\u001b[0mshard\u001b[0m\u001b[0;34m.\u001b[0m\u001b[0mlist_indexes\u001b[0m\u001b[0;34m(\u001b[0m\u001b[0;34m)\u001b[0m\u001b[0;34m)\u001b[0m \u001b[0;34m>\u001b[0m \u001b[0;36m0\u001b[0m\u001b[0;34m,\u001b[0m\u001b[0;34m\u001b[0m\u001b[0;34m\u001b[0m\u001b[0m\n\u001b[0;32m-> 3453\u001b[0;31m                                 \u001b[0moffset\u001b[0m\u001b[0;34m=\u001b[0m\u001b[0moffset\u001b[0m\u001b[0;34m,\u001b[0m\u001b[0;34m\u001b[0m\u001b[0;34m\u001b[0m\u001b[0m\n\u001b[0m\u001b[1;32m   3454\u001b[0m                             )\n\u001b[1;32m   3455\u001b[0m                         \u001b[0;32mexcept\u001b[0m \u001b[0mNumExamplesMismatchError\u001b[0m\u001b[0;34m:\u001b[0m\u001b[0;34m\u001b[0m\u001b[0;34m\u001b[0m\u001b[0m\n",
      "\u001b[0;32m/opt/conda/lib/python3.7/site-packages/datasets/arrow_dataset.py\u001b[0m in \u001b[0;36mapply_function_on_filtered_inputs\u001b[0;34m(pa_inputs, indices, check_same_num_examples, offset)\u001b[0m\n\u001b[1;32m   3328\u001b[0m             \u001b[0;32mif\u001b[0m \u001b[0mwith_rank\u001b[0m\u001b[0;34m:\u001b[0m\u001b[0;34m\u001b[0m\u001b[0;34m\u001b[0m\u001b[0m\n\u001b[1;32m   3329\u001b[0m                 \u001b[0madditional_args\u001b[0m \u001b[0;34m+=\u001b[0m \u001b[0;34m(\u001b[0m\u001b[0mrank\u001b[0m\u001b[0;34m,\u001b[0m\u001b[0;34m)\u001b[0m\u001b[0;34m\u001b[0m\u001b[0;34m\u001b[0m\u001b[0m\n\u001b[0;32m-> 3330\u001b[0;31m             \u001b[0mprocessed_inputs\u001b[0m \u001b[0;34m=\u001b[0m \u001b[0mfunction\u001b[0m\u001b[0;34m(\u001b[0m\u001b[0;34m*\u001b[0m\u001b[0mfn_args\u001b[0m\u001b[0;34m,\u001b[0m \u001b[0;34m*\u001b[0m\u001b[0madditional_args\u001b[0m\u001b[0;34m,\u001b[0m \u001b[0;34m**\u001b[0m\u001b[0mfn_kwargs\u001b[0m\u001b[0;34m)\u001b[0m\u001b[0;34m\u001b[0m\u001b[0;34m\u001b[0m\u001b[0m\n\u001b[0m\u001b[1;32m   3331\u001b[0m             \u001b[0;32mif\u001b[0m \u001b[0misinstance\u001b[0m\u001b[0;34m(\u001b[0m\u001b[0mprocessed_inputs\u001b[0m\u001b[0;34m,\u001b[0m \u001b[0mLazyDict\u001b[0m\u001b[0;34m)\u001b[0m\u001b[0;34m:\u001b[0m\u001b[0;34m\u001b[0m\u001b[0;34m\u001b[0m\u001b[0m\n\u001b[1;32m   3332\u001b[0m                 processed_inputs = {\n",
      "\u001b[0;32m/var/tmp/ipykernel_9942/1601172653.py\u001b[0m in \u001b[0;36mpreprocess_function\u001b[0;34m(examples)\u001b[0m\n\u001b[1;32m      5\u001b[0m     \u001b[0minputs\u001b[0m \u001b[0;34m=\u001b[0m \u001b[0;34m[\u001b[0m\u001b[0mexamples\u001b[0m\u001b[0;34m[\u001b[0m\u001b[0msrc_lang\u001b[0m\u001b[0;34m]\u001b[0m\u001b[0;34m]\u001b[0m\u001b[0;34m\u001b[0m\u001b[0;34m\u001b[0m\u001b[0m\n\u001b[1;32m      6\u001b[0m     \u001b[0mtargets\u001b[0m \u001b[0;34m=\u001b[0m \u001b[0;34m[\u001b[0m\u001b[0mexamples\u001b[0m\u001b[0;34m[\u001b[0m\u001b[0mtrg_lang\u001b[0m\u001b[0;34m]\u001b[0m\u001b[0;34m]\u001b[0m\u001b[0;34m\u001b[0m\u001b[0;34m\u001b[0m\u001b[0m\n\u001b[0;32m----> 7\u001b[0;31m     \u001b[0mmodel_inputs\u001b[0m \u001b[0;34m=\u001b[0m \u001b[0mtokenizer\u001b[0m\u001b[0;34m(\u001b[0m\u001b[0minputs\u001b[0m\u001b[0;34m,\u001b[0m \u001b[0mtext_target\u001b[0m\u001b[0;34m=\u001b[0m\u001b[0mtargets\u001b[0m\u001b[0;34m,\u001b[0m \u001b[0mmax_length\u001b[0m\u001b[0;34m=\u001b[0m\u001b[0;36m128\u001b[0m\u001b[0;34m,\u001b[0m \u001b[0mtruncation\u001b[0m\u001b[0;34m=\u001b[0m\u001b[0;32mTrue\u001b[0m\u001b[0;34m)\u001b[0m\u001b[0;34m\u001b[0m\u001b[0;34m\u001b[0m\u001b[0m\n\u001b[0m\u001b[1;32m      8\u001b[0m     \u001b[0;32mreturn\u001b[0m \u001b[0mmodel_inputs\u001b[0m\u001b[0;34m\u001b[0m\u001b[0;34m\u001b[0m\u001b[0m\n\u001b[1;32m      9\u001b[0m \u001b[0;34m\u001b[0m\u001b[0m\n",
      "\u001b[0;32m~/Project/High-Performance-ML-Project/MBart/transformers/src/transformers/tokenization_utils_base.py\u001b[0m in \u001b[0;36m__call__\u001b[0;34m(self, text, text_pair, text_target, text_pair_target, add_special_tokens, padding, truncation, max_length, stride, is_split_into_words, pad_to_multiple_of, return_tensors, return_token_type_ids, return_attention_mask, return_overflowing_tokens, return_special_tokens_mask, return_offsets_mapping, return_length, verbose, **kwargs)\u001b[0m\n\u001b[1;32m   2546\u001b[0m             \u001b[0;32mif\u001b[0m \u001b[0;32mnot\u001b[0m \u001b[0mself\u001b[0m\u001b[0;34m.\u001b[0m\u001b[0m_in_target_context_manager\u001b[0m\u001b[0;34m:\u001b[0m\u001b[0;34m\u001b[0m\u001b[0;34m\u001b[0m\u001b[0m\n\u001b[1;32m   2547\u001b[0m                 \u001b[0mself\u001b[0m\u001b[0;34m.\u001b[0m\u001b[0m_switch_to_input_mode\u001b[0m\u001b[0;34m(\u001b[0m\u001b[0;34m)\u001b[0m\u001b[0;34m\u001b[0m\u001b[0;34m\u001b[0m\u001b[0m\n\u001b[0;32m-> 2548\u001b[0;31m             \u001b[0mencodings\u001b[0m \u001b[0;34m=\u001b[0m \u001b[0mself\u001b[0m\u001b[0;34m.\u001b[0m\u001b[0m_call_one\u001b[0m\u001b[0;34m(\u001b[0m\u001b[0mtext\u001b[0m\u001b[0;34m=\u001b[0m\u001b[0mtext\u001b[0m\u001b[0;34m,\u001b[0m \u001b[0mtext_pair\u001b[0m\u001b[0;34m=\u001b[0m\u001b[0mtext_pair\u001b[0m\u001b[0;34m,\u001b[0m \u001b[0;34m**\u001b[0m\u001b[0mall_kwargs\u001b[0m\u001b[0;34m)\u001b[0m\u001b[0;34m\u001b[0m\u001b[0;34m\u001b[0m\u001b[0m\n\u001b[0m\u001b[1;32m   2549\u001b[0m         \u001b[0;32mif\u001b[0m \u001b[0mtext_target\u001b[0m \u001b[0;32mis\u001b[0m \u001b[0;32mnot\u001b[0m \u001b[0;32mNone\u001b[0m\u001b[0;34m:\u001b[0m\u001b[0;34m\u001b[0m\u001b[0;34m\u001b[0m\u001b[0m\n\u001b[1;32m   2550\u001b[0m             \u001b[0mself\u001b[0m\u001b[0;34m.\u001b[0m\u001b[0m_switch_to_target_mode\u001b[0m\u001b[0;34m(\u001b[0m\u001b[0;34m)\u001b[0m\u001b[0;34m\u001b[0m\u001b[0;34m\u001b[0m\u001b[0m\n",
      "\u001b[0;32m~/Project/High-Performance-ML-Project/MBart/transformers/src/transformers/tokenization_utils_base.py\u001b[0m in \u001b[0;36m_call_one\u001b[0;34m(self, text, text_pair, add_special_tokens, padding, truncation, max_length, stride, is_split_into_words, pad_to_multiple_of, return_tensors, return_token_type_ids, return_attention_mask, return_overflowing_tokens, return_special_tokens_mask, return_offsets_mapping, return_length, verbose, **kwargs)\u001b[0m\n\u001b[1;32m   2649\u001b[0m                 \u001b[0mreturn_length\u001b[0m\u001b[0;34m=\u001b[0m\u001b[0mreturn_length\u001b[0m\u001b[0;34m,\u001b[0m\u001b[0;34m\u001b[0m\u001b[0;34m\u001b[0m\u001b[0m\n\u001b[1;32m   2650\u001b[0m                 \u001b[0mverbose\u001b[0m\u001b[0;34m=\u001b[0m\u001b[0mverbose\u001b[0m\u001b[0;34m,\u001b[0m\u001b[0;34m\u001b[0m\u001b[0;34m\u001b[0m\u001b[0m\n\u001b[0;32m-> 2651\u001b[0;31m                 \u001b[0;34m**\u001b[0m\u001b[0mkwargs\u001b[0m\u001b[0;34m,\u001b[0m\u001b[0;34m\u001b[0m\u001b[0;34m\u001b[0m\u001b[0m\n\u001b[0m\u001b[1;32m   2652\u001b[0m             )\n\u001b[1;32m   2653\u001b[0m         \u001b[0;32melse\u001b[0m\u001b[0;34m:\u001b[0m\u001b[0;34m\u001b[0m\u001b[0;34m\u001b[0m\u001b[0m\n",
      "\u001b[0;32m~/Project/High-Performance-ML-Project/MBart/transformers/src/transformers/tokenization_utils_base.py\u001b[0m in \u001b[0;36mbatch_encode_plus\u001b[0;34m(self, batch_text_or_text_pairs, add_special_tokens, padding, truncation, max_length, stride, is_split_into_words, pad_to_multiple_of, return_tensors, return_token_type_ids, return_attention_mask, return_overflowing_tokens, return_special_tokens_mask, return_offsets_mapping, return_length, verbose, **kwargs)\u001b[0m\n\u001b[1;32m   2840\u001b[0m             \u001b[0mreturn_length\u001b[0m\u001b[0;34m=\u001b[0m\u001b[0mreturn_length\u001b[0m\u001b[0;34m,\u001b[0m\u001b[0;34m\u001b[0m\u001b[0;34m\u001b[0m\u001b[0m\n\u001b[1;32m   2841\u001b[0m             \u001b[0mverbose\u001b[0m\u001b[0;34m=\u001b[0m\u001b[0mverbose\u001b[0m\u001b[0;34m,\u001b[0m\u001b[0;34m\u001b[0m\u001b[0;34m\u001b[0m\u001b[0m\n\u001b[0;32m-> 2842\u001b[0;31m             \u001b[0;34m**\u001b[0m\u001b[0mkwargs\u001b[0m\u001b[0;34m,\u001b[0m\u001b[0;34m\u001b[0m\u001b[0;34m\u001b[0m\u001b[0m\n\u001b[0m\u001b[1;32m   2843\u001b[0m         )\n\u001b[1;32m   2844\u001b[0m \u001b[0;34m\u001b[0m\u001b[0m\n",
      "\u001b[0;32m~/Project/High-Performance-ML-Project/MBart/transformers/src/transformers/tokenization_utils.py\u001b[0m in \u001b[0;36m_batch_encode_plus\u001b[0;34m(self, batch_text_or_text_pairs, add_special_tokens, padding_strategy, truncation_strategy, max_length, stride, is_split_into_words, pad_to_multiple_of, return_tensors, return_token_type_ids, return_attention_mask, return_overflowing_tokens, return_special_tokens_mask, return_offsets_mapping, return_length, verbose, **kwargs)\u001b[0m\n\u001b[1;32m    729\u001b[0m                 \u001b[0mids\u001b[0m\u001b[0;34m,\u001b[0m \u001b[0mpair_ids\u001b[0m \u001b[0;34m=\u001b[0m \u001b[0mids_or_pair_ids\u001b[0m\u001b[0;34m,\u001b[0m \u001b[0;32mNone\u001b[0m\u001b[0;34m\u001b[0m\u001b[0;34m\u001b[0m\u001b[0m\n\u001b[1;32m    730\u001b[0m             \u001b[0;32melse\u001b[0m\u001b[0;34m:\u001b[0m\u001b[0;34m\u001b[0m\u001b[0;34m\u001b[0m\u001b[0m\n\u001b[0;32m--> 731\u001b[0;31m                 \u001b[0mids\u001b[0m\u001b[0;34m,\u001b[0m \u001b[0mpair_ids\u001b[0m \u001b[0;34m=\u001b[0m \u001b[0mids_or_pair_ids\u001b[0m\u001b[0;34m\u001b[0m\u001b[0;34m\u001b[0m\u001b[0m\n\u001b[0m\u001b[1;32m    732\u001b[0m \u001b[0;34m\u001b[0m\u001b[0m\n\u001b[1;32m    733\u001b[0m             \u001b[0mfirst_ids\u001b[0m \u001b[0;34m=\u001b[0m \u001b[0mget_input_ids\u001b[0m\u001b[0;34m(\u001b[0m\u001b[0mids\u001b[0m\u001b[0;34m)\u001b[0m\u001b[0;34m\u001b[0m\u001b[0;34m\u001b[0m\u001b[0m\n",
      "\u001b[0;31mValueError\u001b[0m: too many values to unpack (expected 2)"
     ]
    }
   ],
   "source": [
    "src_lang, trg_lang = 'en', 'fr'\n",
    "tokenizer = tokenizer_mbart_cc25_fr\n",
    "\n",
    "def preprocess_function(examples):\n",
    "    inputs = [examples[src_lang]]\n",
    "    targets = [examples[trg_lang]]\n",
    "    model_inputs = tokenizer(inputs, text_target=targets, max_length=128, truncation=True)\n",
    "    return model_inputs\n",
    "\n",
    "tokenized_dataset_en_fr = dataset_en_fr.map(preprocess_function, batched=True)"
   ]
  },
  {
   "cell_type": "code",
   "execution_count": 20,
   "metadata": {},
   "outputs": [
    {
     "data": {
      "application/vnd.jupyter.widget-view+json": {
       "model_id": "557a569081fa411081bf29f477ca884a",
       "version_major": 2,
       "version_minor": 0
      },
      "text/plain": [
       "Downloading (…)okenizer_config.json:   0%|          | 0.00/2.32k [00:00<?, ?B/s]"
      ]
     },
     "metadata": {},
     "output_type": "display_data"
    },
    {
     "data": {
      "application/vnd.jupyter.widget-view+json": {
       "model_id": "f37f784a11ee4bc3b120d316a1c6e147",
       "version_major": 2,
       "version_minor": 0
      },
      "text/plain": [
       "Downloading (…)ve/main/spiece.model:   0%|          | 0.00/792k [00:00<?, ?B/s]"
      ]
     },
     "metadata": {},
     "output_type": "display_data"
    },
    {
     "data": {
      "application/vnd.jupyter.widget-view+json": {
       "model_id": "ebe2f286de4e450385bc392f41455788",
       "version_major": 2,
       "version_minor": 0
      },
      "text/plain": [
       "Downloading (…)/main/tokenizer.json:   0%|          | 0.00/1.39M [00:00<?, ?B/s]"
      ]
     },
     "metadata": {},
     "output_type": "display_data"
    },
    {
     "name": "stderr",
     "output_type": "stream",
     "text": [
      "Found cached dataset opus_books (/home/vg2565/.cache/huggingface/datasets/opus_books/en-fr/1.0.0/e8f950a4f32dc39b7f9088908216cd2d7e21ac35f893d04d39eb594746af2daf)\n"
     ]
    },
    {
     "data": {
      "application/vnd.jupyter.widget-view+json": {
       "model_id": "f305d352d858428cb52eb6bfb4dcb096",
       "version_major": 2,
       "version_minor": 0
      },
      "text/plain": [
       "  0%|          | 0/1 [00:00<?, ?it/s]"
      ]
     },
     "metadata": {},
     "output_type": "display_data"
    }
   ],
   "source": [
    "\n",
    "checkpoint = \"t5-small\"\n",
    "tokenizer = AutoTokenizer.from_pretrained(checkpoint)\n",
    "\n",
    "books = load_dataset(\"opus_books\", \"en-fr\")\n",
    "\n",
    "source_lang = \"en\"\n",
    "target_lang = \"fr\"\n",
    "prefix = \"translate English to French: \"\n",
    "\n",
    "\n",
    "def preprocess_function(examples):\n",
    "    inputs = [prefix + example[source_lang] for example in examples[\"translation\"]]\n",
    "    targets = [example[target_lang] for example in examples[\"translation\"]]\n",
    "    model_inputs = tokenizer(inputs, text_target=targets, max_length=128, truncation=True)\n",
    "    return model_inputs"
   ]
  },
  {
   "cell_type": "code",
   "execution_count": 21,
   "metadata": {},
   "outputs": [
    {
     "data": {
      "application/vnd.jupyter.widget-view+json": {
       "model_id": "afd92c62d6474349878dac6da1739c83",
       "version_major": 2,
       "version_minor": 0
      },
      "text/plain": [
       "Map:   0%|          | 0/127085 [00:00<?, ? examples/s]"
      ]
     },
     "metadata": {},
     "output_type": "display_data"
    }
   ],
   "source": [
    "tokenized_books = books.map(preprocess_function, batched=True)"
   ]
  },
  {
   "cell_type": "code",
   "execution_count": 24,
   "metadata": {},
   "outputs": [
    {
     "data": {
      "text/plain": [
       "Dataset({\n",
       "    features: ['id', 'translation', 'input_ids', 'attention_mask', 'labels'],\n",
       "    num_rows: 127085\n",
       "})"
      ]
     },
     "execution_count": 24,
     "metadata": {},
     "output_type": "execute_result"
    }
   ],
   "source": [
    "tokenized_books[\"train\"]"
   ]
  },
  {
   "cell_type": "code",
   "execution_count": null,
   "metadata": {},
   "outputs": [],
   "source": []
  }
 ],
 "metadata": {
  "kernelspec": {
   "display_name": "base",
   "language": "python",
   "name": "python3"
  },
  "language_info": {
   "codemirror_mode": {
    "name": "ipython",
    "version": 3
   },
   "file_extension": ".py",
   "mimetype": "text/x-python",
   "name": "python",
   "nbconvert_exporter": "python",
   "pygments_lexer": "ipython3",
   "version": "3.7.12"
  },
  "orig_nbformat": 4
 },
 "nbformat": 4,
 "nbformat_minor": 2
}
